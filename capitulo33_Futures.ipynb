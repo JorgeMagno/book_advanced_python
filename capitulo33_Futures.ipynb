{
 "cells": [
  {
   "cell_type": "code",
   "execution_count": 1,
   "metadata": {},
   "outputs": [],
   "source": [
    "from time import sleep\n",
    "# define function to be used with future\n",
    "def worker(msg):\n",
    "    for i in range(0, 10):\n",
    "        print(msg, end='', flush=True)\n",
    "        sleep(1)\n",
    "    return i"
   ]
  },
  {
   "cell_type": "code",
   "execution_count": 2,
   "metadata": {},
   "outputs": [
    {
     "name": "stdout",
     "output_type": "stream",
     "text": [
      "AAAAAAAAAA9\n"
     ]
    }
   ],
   "source": [
    "res = worker('A')\n",
    "print(res)"
   ]
  },
  {
   "cell_type": "code",
   "execution_count": 3,
   "metadata": {},
   "outputs": [
    {
     "name": "stdout",
     "output_type": "stream",
     "text": [
      "Setting up the ThreadPoolExecutor\n",
      "Submitting the worker to the pool\n",
      "AObtained a reference to the future object <Future at 0x7f14563edf98 state=running>\n",
      "AAAAAAAAAfuture.result(): 9\n",
      "Done\n"
     ]
    }
   ],
   "source": [
    "from time import sleep\n",
    "from concurrent.futures import ThreadPoolExecutor\n",
    "\n",
    "print('Setting up the ThreadPoolExecutor')\n",
    "pool = ThreadPoolExecutor(1)\n",
    "# Submit the function ot the pool to run\n",
    "# concurrently - obtain a future from pool\n",
    "print('Submitting the worker to the pool')\n",
    "future = pool.submit(worker, 'A')\n",
    "print('Obtained a reference to the future object', future)\n",
    "# Obtain the result from the future - wait if necessary\n",
    "print('future.result():', future.result())\n",
    "print('Done')"
   ]
  },
  {
   "cell_type": "code",
   "execution_count": 2,
   "metadata": {},
   "outputs": [
    {
     "name": "stdout",
     "output_type": "stream",
     "text": [
      "Setting up the ThreadPoolExecutor\n",
      "Submitting the worker to the pool\n",
      "AObtained a reference to the future object <Future at 0x7f312c67d7f0 state=running>\n",
      "AAAAAAAAAfuture.result(): 9\n",
      "Done\n"
     ]
    }
   ],
   "source": [
    "from concurrent.futures import ProcessPoolExecutor\n",
    "print('Setting up the ThreadPoolExecutor')\n",
    "pool = ProcessPoolExecutor(1)\n",
    "print('Submitting the worker to the pool')\n",
    "future = pool.submit(worker, 'A')\n",
    "print('Obtained a reference to the future object', future)\n",
    "print('future.result():', future.result())\n",
    "print('Done')"
   ]
  },
  {
   "cell_type": "code",
   "execution_count": 3,
   "metadata": {},
   "outputs": [
    {
     "name": "stdout",
     "output_type": "stream",
     "text": [
      "Starting...\n",
      "ABCCABCABCABCABCABCABCABCABCABDDDDDDDDDD\n",
      "future4.result(): 9\n",
      "All Done\n"
     ]
    }
   ],
   "source": [
    "from concurrent.futures import ThreadPoolExecutor\n",
    "print('Starting...')\n",
    "pool = ThreadPoolExecutor(3)\n",
    "future1 = pool.submit(worker, 'A')\n",
    "future2 = pool.submit(worker, 'B')\n",
    "future3 = pool.submit(worker, 'C')\n",
    "future4 = pool.submit(worker, 'D')\n",
    "print('\\nfuture4.result():', future4.result())\n",
    "print('All Done')"
   ]
  },
  {
   "cell_type": "code",
   "execution_count": 1,
   "metadata": {},
   "outputs": [
    {
     "name": "stdout",
     "output_type": "stream",
     "text": [
      "Starting...setting up pool\n",
      "Submitting futures\n",
      "ABCWaiting for futures to complete\n",
      "ABCABCABCABCBCACBABCABCACBADDDDDDDDDD\n",
      "All Done\n"
     ]
    }
   ],
   "source": [
    "from concurrent.futures import ProcessPoolExecutor\n",
    "from concurrent.futures import wait\n",
    "from time import sleep\n",
    "\n",
    "def worker(msg):\n",
    "    for i in range(0,10):\n",
    "        print(msg,end='', flush=True)\n",
    "        sleep(1)\n",
    "    return i\n",
    "\n",
    "print('Starting...setting up pool')\n",
    "pool = ProcessPoolExecutor(3)\n",
    "futures = []\n",
    "print('Submitting futures')\n",
    "future1 = pool.submit(worker,'A')\n",
    "futures.append(future1)\n",
    "future2 = pool.submit(worker,'B')\n",
    "futures.append(future2)\n",
    "future3 = pool.submit(worker,'C')\n",
    "futures.append(future3)\n",
    "future4 = pool.submit(worker,'D')\n",
    "futures.append(future4)\n",
    "\n",
    "print('Waiting for futures to complete')\n",
    "wait(futures)\n",
    "print('\\nAll Done')"
   ]
  },
  {
   "cell_type": "code",
   "execution_count": 4,
   "metadata": {},
   "outputs": [
    {
     "name": "stdout",
     "output_type": "stream",
     "text": [
      "Started\n",
      "\n",
      "Checking if 1 is even\n",
      "\n",
      "\n",
      "Checking if 2 is even\n",
      "\n",
      "\n",
      "Checking if 3\n",
      "Checking if is even\n",
      "\n",
      " \n",
      "Checking if 5 is even\n",
      "\n",
      "4 is even\n",
      "\n",
      "\n",
      "Checking if1 False 6 is even\n",
      "\n",
      "\n",
      "5 False\n",
      "6 True\n",
      "3 False\n",
      "4 True\n",
      "2 True\n",
      "Done\n"
     ]
    }
   ],
   "source": [
    "from concurrent.futures import ThreadPoolExecutor, as_completed\n",
    "from time import sleep\n",
    "from random import randint\n",
    "\n",
    "def is_even(n):\n",
    "    print('\\nChecking if', n , 'is even\\n')\n",
    "    sleep(randint(1, 5))\n",
    "    return str(n) + ' ' + str(n % 2 == 0)\n",
    "print('Started')\n",
    "data = [1, 2, 3, 4, 5, 6]\n",
    "pool = ThreadPoolExecutor(5)\n",
    "futures = []\n",
    "for v in data:\n",
    "    futures.append(pool.submit(is_even, v))\n",
    "for f in as_completed(futures):\n",
    "    print(f.result())\n",
    "print('Done')"
   ]
  },
  {
   "cell_type": "code",
   "execution_count": 5,
   "metadata": {},
   "outputs": [
    {
     "name": "stdout",
     "output_type": "stream",
     "text": [
      "Started\n",
      "Checking if 1 is even\n",
      "Checking if 2 is even\n",
      "Checking if Checking if3 is even\n",
      " Checking if4 is even\n",
      "Done 5 is even\n",
      "\n",
      "In callback Future result:  5 False\n",
      "Checking if 6 is even\n",
      "In callback Future result:  3 False\n",
      "In callback Future result:  4 True\n",
      "In callback Future result:  1 False\n",
      "In callback Future result:  2 True\n",
      "In callback Future result:  6 True\n"
     ]
    }
   ],
   "source": [
    "from concurrent.futures import ThreadPoolExecutor\n",
    "from time import sleep\n",
    "from random import randint\n",
    "\n",
    "def is_even(n):\n",
    "    print('Checking if', n, 'is even')\n",
    "    sleep(randint(1, 5))\n",
    "    return str(n) + ' ' + str(n % 2 == 0)\n",
    "def print_future_result(future):\n",
    "    print('In callback Future result: ', future.result())\n",
    "\n",
    "print('Started')\n",
    "data = [1, 2, 3, 4, 5, 6]\n",
    "pool = ThreadPoolExecutor(5)\n",
    "for v in data:\n",
    "    future = pool.submit(is_even, v)\n",
    "    future.add_done_callback(print_future_result)\n",
    "print('Done')"
   ]
  },
  {
   "cell_type": "code",
   "execution_count": 2,
   "metadata": {},
   "outputs": [
    {
     "name": "stdout",
     "output_type": "stream",
     "text": [
      "Started\n",
      "In worker with: In worker with:   In worker with: 2\n",
      "In callback Future result:  2\n",
      "Done 1\n",
      "In callback Future result:  1\n",
      "In worker with:  4\n",
      "In callback Future result:  24\n",
      "In worker with:  5\n",
      "In callback Future result:  120\n",
      "3\n",
      "In callback Future result:  6\n",
      "In worker with:  6\n",
      "In callback Future result:  720\n",
      "\n"
     ]
    }
   ],
   "source": [
    "from concurrent.futures import ThreadPoolExecutor\n",
    "from time import sleep\n",
    "from random import randint\n",
    "\n",
    "def worker(n):\n",
    "    print('In worker with: ', n)\n",
    "    if n < 0:\n",
    "        print('Não há fatorial de negativo.')\n",
    "    else:\n",
    "        fat = 1\n",
    "        i = 2\n",
    "        while i <= n:\n",
    "            fat = fat*i\n",
    "            i = i + 1\n",
    "        return fat\n",
    "    \n",
    "def print_future_result(future):\n",
    "    print('In callback Future result: ', future.result())\n",
    "\n",
    "print('Started')\n",
    "data = [1, 2, 3, 4, 5, 6]\n",
    "pool = ThreadPoolExecutor(3)\n",
    "for v in data:\n",
    "    future = pool.submit(worker, v)\n",
    "    future.add_done_callback(print_future_result)\n",
    "print('Done')"
   ]
  },
  {
   "cell_type": "code",
   "execution_count": null,
   "metadata": {},
   "outputs": [],
   "source": []
  }
 ],
 "metadata": {
  "kernelspec": {
   "display_name": "Python 3",
   "language": "python",
   "name": "python3"
  },
  "language_info": {
   "codemirror_mode": {
    "name": "ipython",
    "version": 3
   },
   "file_extension": ".py",
   "mimetype": "text/x-python",
   "name": "python",
   "nbconvert_exporter": "python",
   "pygments_lexer": "ipython3",
   "version": "3.6.9"
  }
 },
 "nbformat": 4,
 "nbformat_minor": 4
}
