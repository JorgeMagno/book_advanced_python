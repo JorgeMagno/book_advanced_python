{
 "cells": [
  {
   "cell_type": "code",
   "execution_count": 4,
   "metadata": {},
   "outputs": [
    {
     "name": "stdout",
     "output_type": "stream",
     "text": [
      "Starting Client\n",
      "Create a TCP/IP socket\n",
      "Connect the socket to the server port\n",
      "Connecting to:  ('jorgepierrot', 8084)\n"
     ]
    },
    {
     "ename": "ConnectionRefusedError",
     "evalue": "[Errno 111] Connection refused",
     "output_type": "error",
     "traceback": [
      "\u001b[0;31m---------------------------------------------------------------------------\u001b[0m",
      "\u001b[0;31mConnectionRefusedError\u001b[0m                    Traceback (most recent call last)",
      "\u001b[0;32m<ipython-input-4-936dfa1b7b2e>\u001b[0m in \u001b[0;36m<module>\u001b[0;34m\u001b[0m\n\u001b[1;32m     21\u001b[0m \u001b[0;34m\u001b[0m\u001b[0m\n\u001b[1;32m     22\u001b[0m \u001b[0;32mif\u001b[0m \u001b[0m__name__\u001b[0m \u001b[0;34m==\u001b[0m \u001b[0;34m'__main__'\u001b[0m\u001b[0;34m:\u001b[0m\u001b[0;34m\u001b[0m\u001b[0;34m\u001b[0m\u001b[0m\n\u001b[0;32m---> 23\u001b[0;31m     \u001b[0mmain\u001b[0m\u001b[0;34m(\u001b[0m\u001b[0;34m)\u001b[0m\u001b[0;34m\u001b[0m\u001b[0;34m\u001b[0m\u001b[0m\n\u001b[0m",
      "\u001b[0;32m<ipython-input-4-936dfa1b7b2e>\u001b[0m in \u001b[0;36mmain\u001b[0;34m()\u001b[0m\n\u001b[1;32m      7\u001b[0m     \u001b[0mserver_address\u001b[0m \u001b[0;34m=\u001b[0m \u001b[0;34m(\u001b[0m\u001b[0msocket\u001b[0m\u001b[0;34m.\u001b[0m\u001b[0mgethostname\u001b[0m\u001b[0;34m(\u001b[0m\u001b[0;34m)\u001b[0m\u001b[0;34m,\u001b[0m \u001b[0;36m8084\u001b[0m\u001b[0;34m)\u001b[0m\u001b[0;34m\u001b[0m\u001b[0;34m\u001b[0m\u001b[0m\n\u001b[1;32m      8\u001b[0m     \u001b[0mprint\u001b[0m\u001b[0;34m(\u001b[0m\u001b[0;34m'Connecting to: '\u001b[0m\u001b[0;34m,\u001b[0m \u001b[0mserver_address\u001b[0m\u001b[0;34m)\u001b[0m\u001b[0;34m\u001b[0m\u001b[0;34m\u001b[0m\u001b[0m\n\u001b[0;32m----> 9\u001b[0;31m     \u001b[0msock\u001b[0m\u001b[0;34m.\u001b[0m\u001b[0mconnect\u001b[0m\u001b[0;34m(\u001b[0m\u001b[0mserver_address\u001b[0m\u001b[0;34m)\u001b[0m\u001b[0;34m\u001b[0m\u001b[0;34m\u001b[0m\u001b[0m\n\u001b[0m\u001b[1;32m     10\u001b[0m     \u001b[0mprint\u001b[0m\u001b[0;34m(\u001b[0m\u001b[0;34m'Connected to server'\u001b[0m\u001b[0;34m)\u001b[0m\u001b[0;34m\u001b[0m\u001b[0;34m\u001b[0m\u001b[0m\n\u001b[1;32m     11\u001b[0m     \u001b[0;32mtry\u001b[0m\u001b[0;34m:\u001b[0m\u001b[0;34m\u001b[0m\u001b[0;34m\u001b[0m\u001b[0m\n",
      "\u001b[0;31mConnectionRefusedError\u001b[0m: [Errno 111] Connection refused"
     ]
    }
   ],
   "source": [
    "import socket\n",
    "def main():\n",
    "    print('Starting Client')\n",
    "    print('Create a TCP/IP socket')\n",
    "    sock = socket.socket(socket.AF_INET, socket.SOCK_STREAM)\n",
    "    print('Connect the socket to the server port')\n",
    "    server_address = (socket.gethostname(), 8084)\n",
    "    print('Connecting to: ', server_address)\n",
    "    sock.connect(server_address)\n",
    "    print('Connected to server')\n",
    "    try:\n",
    "        print('Send data')\n",
    "        message = 'John'\n",
    "        print('Sending: ', message)\n",
    "        sock.send(message.encode())\n",
    "        data = sock.recv(1024).decode()\n",
    "        print('Received from server: ', data)\n",
    "    finally:\n",
    "        print('Closing socket')\n",
    "        sock.close()\n",
    "\n",
    "if __name__ == '__main__':\n",
    "    main()"
   ]
  },
  {
   "cell_type": "code",
   "execution_count": 18,
   "metadata": {},
   "outputs": [
    {
     "name": "stdout",
     "output_type": "stream",
     "text": [
      "Starting Client\n",
      "Create a TCP/IP socket\n",
      "Connect the socket to the server port\n",
      "Connecting to:  ('jorgepierrot', 8083)\n",
      "Connected to server\n",
      "Please provide an input (Date, Time, DataAndTime or q to exit):Time\n",
      "Sending:  Time\n",
      "Received from server:  20:46\n",
      "Please provide an input (Date, Time, DataAndTime or q to exit):Date\n",
      "Sending:  Date\n",
      "Received from server:  2021-05-24\n",
      "Please provide an input (Date, Time, DataAndTime or q to exit):DataAndTime\n",
      "Sending:  DataAndTime\n",
      "Received from server:  2021-05-24T20:46\n",
      "Please provide an input (Date, Time, DataAndTime or q to exit):q\n",
      "Closing socket\n"
     ]
    }
   ],
   "source": [
    "import socket\n",
    "\n",
    "def main():\n",
    "    print('Starting Client')\n",
    "    print('Create a TCP/IP socket')\n",
    "    sock = socket.socket(socket.AF_INET, socket.SOCK_STREAM)\n",
    "    print('Connect the socket to the server port')\n",
    "    server_address = (socket.gethostname(), 8083)\n",
    "    print('Connecting to: ', server_address)\n",
    "    sock.connect(server_address)\n",
    "    print('Connected to server')\n",
    "    while True:\n",
    "        message = input(\"Please provide an input (Date, Time, DataAndTime or q to exit):\" )\n",
    "        if message == 'q':\n",
    "            break\n",
    "        else:\n",
    "            print('Sending: ', message)\n",
    "            sock.send(message.encode())\n",
    "            data = sock.recv(1024).decode()\n",
    "            print('Received from server: ', data)\n",
    "    print('Closing socket')\n",
    "    sock.close()\n",
    "        \n",
    "if __name__ == '__main__':\n",
    "    main()"
   ]
  },
  {
   "cell_type": "code",
   "execution_count": null,
   "metadata": {},
   "outputs": [],
   "source": []
  },
  {
   "cell_type": "code",
   "execution_count": null,
   "metadata": {},
   "outputs": [],
   "source": []
  }
 ],
 "metadata": {
  "kernelspec": {
   "display_name": "Python 3",
   "language": "python",
   "name": "python3"
  },
  "language_info": {
   "codemirror_mode": {
    "name": "ipython",
    "version": 3
   },
   "file_extension": ".py",
   "mimetype": "text/x-python",
   "name": "python",
   "nbconvert_exporter": "python",
   "pygments_lexer": "ipython3",
   "version": "3.6.9"
  }
 },
 "nbformat": 4,
 "nbformat_minor": 4
}
