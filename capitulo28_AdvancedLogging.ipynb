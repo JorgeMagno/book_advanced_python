{
 "cells": [
  {
   "cell_type": "code",
   "execution_count": 3,
   "metadata": {},
   "outputs": [],
   "source": [
    "import logging\n",
    "\n",
    "# Sets a file handler on the root logger to\n",
    "# save log messages to the example.log file\n",
    "logging.basicConfig(filename='example.log' ,level=logging.DEBUG)\n",
    "\n",
    "# If no handler is explicitly set on the name logger\n",
    "# it will delegate the messages to the parent logger to handle\n",
    "logger = logging.getLogger(__name__)\n",
    "logger.debug('This is to help with debugging')\n",
    "logger.info('This is just for information')\n",
    "logger.warning('This is a warning!')\n",
    "logger.error('This should be used with something unexpected')\n",
    "logger.critical('Something serious')"
   ]
  },
  {
   "cell_type": "code",
   "execution_count": 5,
   "metadata": {},
   "outputs": [],
   "source": [
    "import logging\n",
    "\n",
    "# Empty basic config turns off default console handler\n",
    "logging.basicConfig()\n",
    "logger = logging.getLogger(__name__)\n",
    "logger.setLevel(logging.DEBUG)\n",
    "\n",
    "# create file handler which logs to the specified file\n",
    "file_handler = logging.FileHandler('detailed2.log')\n",
    "\n",
    "# Create formatter for the file_handler\n",
    "formatter = logging.Formatter('%(asctime)s - %(funcName)s - %(message)s' )\n",
    "file_handler.setFormatter(formatter)\n",
    "\n",
    "# Add the handler to the Logger\n",
    "logger.addHandler(file_handler)\n",
    "\n",
    "# 'application' code\n",
    "def do_something():\n",
    "    logger.debug('debug message')\n",
    "    logger.info('info message')\n",
    "    logger.warning('warn message')\n",
    "    logger.error('error message')\n",
    "    logger.critical('critical message')\n",
    "    \n",
    "logger.info('Starting')\n",
    "do_something()\n",
    "logger.info('Done')"
   ]
  },
  {
   "cell_type": "code",
   "execution_count": 7,
   "metadata": {},
   "outputs": [
    {
     "name": "stderr",
     "output_type": "stream",
     "text": [
      "2021-01-30 16:10:18,843 - do_something - warn message\n",
      "2021-01-30 16:10:18,843 - do_something - warn message\n",
      "2021-01-30 16:10:18,846 - do_something - error message\n",
      "2021-01-30 16:10:18,846 - do_something - error message\n",
      "2021-01-30 16:10:18,848 - do_something - critical message\n",
      "2021-01-30 16:10:18,848 - do_something - critical message\n"
     ]
    }
   ],
   "source": [
    "# Multiple Handlers and formatters\n",
    "import logging\n",
    "\n",
    "# Set up the default root logger to do nothing\n",
    "logging.basicConfig(handlers=[logging.NullHandler()])\n",
    "\n",
    "# Obtain the module level logger and set level to DEBUG\n",
    "logger = logging.getLogger(__name__)\n",
    "logger.setLevel(logging.DEBUG)\n",
    "\n",
    "# Create file handler\n",
    "file_handler = logging.FileHandler('detailed3.log')\n",
    "\n",
    "# Create console handler with a higher log level\n",
    "console_handler = logging.StreamHandler()\n",
    "console_handler.setLevel(logging.WARNING)\n",
    "\n",
    "# Create formatter for the file handler\n",
    "fh_formatter = logging.Formatter('%(asctime)s [%(levelname)s] %(name)s.%(funcName)s: %(message)s', \n",
    "                                 datefmt='%m-%d-%Y %I:%M:%S:%p')\n",
    "file_handler.setFormatter(fh_formatter)\n",
    "\n",
    "# Create formatter for the console handler\n",
    "console_formatter = logging.Formatter('%(asctime)s - %(funcName)s - %(message)s')\n",
    "console_handler.setFormatter(console_formatter)\n",
    "\n",
    "# Add the handlers to logger\n",
    "logger.addHandler(console_handler)\n",
    "logger.addHandler(file_handler)\n",
    "\n",
    "# 'application' code\n",
    "def do_something():\n",
    "    logger.debug('debug message')\n",
    "    logger.info('info message')\n",
    "    logger.warning('warn message')\n",
    "    logger.error('error message')\n",
    "    logger.critical('critical message')\n",
    "    \n",
    "logger.info('Starting')\n",
    "do_something()\n",
    "logger.info('Done')"
   ]
  },
  {
   "cell_type": "code",
   "execution_count": 1,
   "metadata": {},
   "outputs": [
    {
     "name": "stderr",
     "output_type": "stream",
     "text": [
      "2021-01-30 16:15:59,154 This is to help with debugging\n"
     ]
    }
   ],
   "source": [
    "import logging\n",
    "\n",
    "class MyFilter(logging.Filter):\n",
    "    def filter(self, record):\n",
    "        if 'John' in record.msg:\n",
    "            return False\n",
    "        else:\n",
    "            return True\n",
    "\n",
    "logging.basicConfig(format='%(asctime)s %(message)s', level=logging.DEBUG)\n",
    "logger = logging.getLogger()\n",
    "logger.addFilter(MyFilter())\n",
    "logger.debug('This is to help with debugging')\n",
    "logger.info('This is information on John')"
   ]
  },
  {
   "cell_type": "code",
   "execution_count": 5,
   "metadata": {},
   "outputs": [
    {
     "name": "stdout",
     "output_type": "stream",
     "text": [
      "2021-01-30 16:25:08,989 [INFO] myLogger.<module>:Starting\n",
      "2021-01-30 16:25:08,990 [DEBUG] myLogger.do_something:debug message\n",
      "2021-01-30 16:25:08,991 [INFO] myLogger.do_something:info message\n",
      "2021-01-30 16:25:08,991 [WARNING] myLogger.do_something:warn message\n",
      "2021-01-30 16:25:08,992 [ERROR] myLogger.do_something:error message\n",
      "2021-01-30 16:25:08,992 [CRITICAL] myLogger.do_something:critical message\n",
      "2021-01-30 16:25:08,993 [INFO] myLogger.<module>:Done\n"
     ]
    }
   ],
   "source": [
    "import logging\n",
    "import logging.config\n",
    "import yaml\n",
    "\n",
    "with open('logging.conf.yaml', 'r') as f:\n",
    "    config = yaml.safe_load(f.read())\n",
    "    logging.config.dictConfig(config)\n",
    "    \n",
    "logger = logging.getLogger('myLogger' )\n",
    "\n",
    "# 'application' code\n",
    "def do_something():\n",
    "    logger.debug('debug message')\n",
    "    logger.info('info message')\n",
    "    logger.warning('warn message')\n",
    "    logger.error('error message')\n",
    "    logger.critical('critical message')\n",
    "    \n",
    "logger.info('Starting')\n",
    "do_something()\n",
    "logger.info('Done' )"
   ]
  },
  {
   "cell_type": "code",
   "execution_count": 1,
   "metadata": {},
   "outputs": [],
   "source": [
    "import pymysql\n",
    "import logging\n",
    "import logging.config\n",
    "import yaml\n",
    "\n",
    "with open('logging.conf.yaml', 'r') as f:\n",
    "    config = yaml.safe_load(f.read())\n",
    "    logging.config.dictConfig(config)\n",
    "    \n",
    "logger = logging.getLogger('myLogger')\n",
    "\n",
    "class Account:\n",
    "    def __init__(self, number,holder, balance, type_account):\n",
    "        self.number = number\n",
    "        self.holder = holder\n",
    "        self.balance = balance\n",
    "        self.type_account = type_account\n",
    "        \n",
    "        # Open database connection\n",
    "        connection = pymysql.connect(host='localhost',\n",
    "                             user='jorge', \n",
    "                             password='qwe123', \n",
    "                             database='testes_python')\n",
    "        \n",
    "        # prepare a cursor object using cursor() method\n",
    "        cursor = connection.cursor()\n",
    "        cursor.execute('SELECT * FROM transactions')\n",
    "        id = cursor.rowcount\n",
    "        print(id)\n",
    "        \n",
    "        logger.info('Conta adicionada')\n",
    "    \n",
    "        try:\n",
    "            print('executou')\n",
    "            # Execute INSERT command\n",
    "            cursor.execute(\"INSERT INTO acc_info (idacc_info, name) VALUES (\"+ str(number) +\", '\" + holder + \"')\")\n",
    "            # Commit the changes to the database\n",
    "            connection.commit()\n",
    "        except:\n",
    "            # Something went wrong\n",
    "            # rollback the changes\n",
    "            connection.rollback()\n",
    "            \n",
    "        try:\n",
    "            print('executou de novo')\n",
    "            # Execute INSERT command\n",
    "            cursor.execute(\"INSERT into transactions (idtransactions, type, amount, account) VALUES (\" + str(id) + \", 'deposit',\" + str(balance) + \",\" + str(number) + \") \")\n",
    "            # Commit the changes to the database\n",
    "            connection.commit()\n",
    "        except:\n",
    "            # Something went wrong\n",
    "            # rollback the changes\n",
    "            connection.rollback()\n",
    "            \n",
    "        # Close the database connection\n",
    "        connection.close()\n",
    "        \n",
    "    def deposit(self, amount, id, tipo):\n",
    "        query = \"INSERT into transactions (idtransactions, type, amount, account) VALUES (\" + str(id) + \", '\"+ tipo +\"',\" + str(amount) + \",\" + str(self.number) + \")\"\n",
    "        self.balance += amount\n",
    "        \n",
    "        return query\n",
    "    \n",
    "    def withdraw(self, amount, id, tipo):\n",
    "        query = \"INSERT into transactions (idtransactions, type, amount, account) VALUES (\" + str(id) + \", '\"+ tipo +\"',\" + str(amount) + \",\" + str(self.number) + \")\"\n",
    "        self.balance -= amount\n",
    "        \n",
    "        return query\n",
    "    \n",
    "    def get_balance(self):\n",
    "        return self.balance"
   ]
  },
  {
   "cell_type": "code",
   "execution_count": 2,
   "metadata": {},
   "outputs": [
    {
     "name": "stdout",
     "output_type": "stream",
     "text": [
      "12\n",
      "2021-02-02 21:08:34,287 [INFO] myLogger.__init__:Conta adicionada\n",
      "executou\n",
      "executou de novo\n"
     ]
    }
   ],
   "source": [
    "acc = Account('801', 'Luiza', 1045.05, 'current')"
   ]
  },
  {
   "cell_type": "code",
   "execution_count": null,
   "metadata": {},
   "outputs": [],
   "source": []
  }
 ],
 "metadata": {
  "kernelspec": {
   "display_name": "Python 3",
   "language": "python",
   "name": "python3"
  },
  "language_info": {
   "codemirror_mode": {
    "name": "ipython",
    "version": 3
   },
   "file_extension": ".py",
   "mimetype": "text/x-python",
   "name": "python",
   "nbconvert_exporter": "python",
   "pygments_lexer": "ipython3",
   "version": "3.6.9"
  }
 },
 "nbformat": 4,
 "nbformat_minor": 4
}
