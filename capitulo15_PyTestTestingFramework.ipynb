{
 "cells": [
  {
   "cell_type": "code",
   "execution_count": 1,
   "metadata": {},
   "outputs": [],
   "source": [
    "from calculator import Calculator"
   ]
  },
  {
   "cell_type": "code",
   "execution_count": 2,
   "metadata": {},
   "outputs": [],
   "source": [
    "def test_add_one():\n",
    "    calc = Calculator()\n",
    "    calc.set(1)\n",
    "    calc.add()\n",
    "    assert calc.total == 1"
   ]
  },
  {
   "cell_type": "code",
   "execution_count": 3,
   "metadata": {},
   "outputs": [],
   "source": [
    "import pytest\n",
    "from calculator import Calculator\n",
    "@pytest.fixture\n",
    "def calculator():\n",
    "    \"\"\"Returns a Calculator instance\"\"\"\n",
    "    return Calculator()\n",
    "def test_initial_value(calculator):\n",
    "    assert calculator.total == 0\n",
    "def test_add_one(calculator):\n",
    "    calculator.set(1)\n",
    "    calculator.add()\n",
    "    assert calculator.total == 1\n",
    "def test_subtract_one(calculator):\n",
    "    calculator.set(1)\n",
    "    calculator.sub()\n",
    "    assert calculator.total == -1\n",
    "def test_add_one_and_one(calculator):\n",
    "    calculator.set(1)\n",
    "    calculator.add()\n",
    "    calculator.set(1)\n",
    "    calculator.add()\n",
    "    assert calculator.total == 2"
   ]
  },
  {
   "cell_type": "code",
   "execution_count": 6,
   "metadata": {},
   "outputs": [],
   "source": [
    "import pytest\n",
    "from calculator import Calculator\n",
    "\n",
    "@pytest.fixture(scope='session', autouse=True)\n",
    "def session_scope_fixture():\n",
    "    print('session_scope_fixture')\n",
    "@pytest.fixture(scope='module', autouse=True)\n",
    "def module_scope_fixture():\n",
    "    print('module_scope_fixture')\n",
    "@pytest.fixture(scope='class', autouse=True)\n",
    "def class_scope_fixture():\n",
    "    print('class_scope_fixture')\n",
    "\n",
    "@pytest.fixture\n",
    "def calculator():\n",
    "    \"\"\"Returns a Calculator instance\"\"\"\n",
    "    return Calculator()\n",
    "def test_initial_value(calculator):\n",
    "    assert calculator.total == 0\n",
    "def test_add_one(calculator):\n",
    "    calculator.set(1)\n",
    "    calculator.add()\n",
    "    assert calculator.total == 1\n",
    "def test_subtract_one(calculator):\n",
    "    calculator.set(1)\n",
    "    calculator.sub()\n",
    "    assert calculator.total == -1\n",
    "def test_add_one_and_one(calculator):\n",
    "    calculator.set(1)\n",
    "    calculator.add()\n",
    "    calculator.set(1)\n",
    "    calculator.add()\n",
    "    assert calculator.total == 2"
   ]
  },
  {
   "cell_type": "code",
   "execution_count": null,
   "metadata": {},
   "outputs": [],
   "source": []
  }
 ],
 "metadata": {
  "kernelspec": {
   "display_name": "Python 3",
   "language": "python",
   "name": "python3"
  },
  "language_info": {
   "codemirror_mode": {
    "name": "ipython",
    "version": 3
   },
   "file_extension": ".py",
   "mimetype": "text/x-python",
   "name": "python",
   "nbconvert_exporter": "python",
   "pygments_lexer": "ipython3",
   "version": "3.6.9"
  }
 },
 "nbformat": 4,
 "nbformat_minor": 4
}
