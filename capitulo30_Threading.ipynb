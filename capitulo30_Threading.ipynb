{
 "cells": [
  {
   "cell_type": "code",
   "execution_count": 4,
   "metadata": {},
   "outputs": [
    {
     "name": "stdout",
     "output_type": "stream",
     "text": [
      "True\n",
      "hello\n",
      "Thread-7\n",
      "140453430507264\n",
      "False\n"
     ]
    }
   ],
   "source": [
    "from threading import Thread\n",
    "\n",
    "def simple_worker():\n",
    "    print(t1.is_alive())\n",
    "    print('hello')\n",
    "\n",
    "# Create a new thread and start it\n",
    "# The thread will run the function simple_worker\n",
    "t1 = Thread(target=simple_worker)\n",
    "t1.start()\n",
    "\n",
    "print(t1.getName())\n",
    "print(t1.ident)\n",
    "print(t1.is_alive())"
   ]
  },
  {
   "cell_type": "code",
   "execution_count": 5,
   "metadata": {},
   "outputs": [
    {
     "name": "stdout",
     "output_type": "stream",
     "text": [
      "Starting\n",
      "..........\n",
      "Done\n"
     ]
    }
   ],
   "source": [
    "from threading import Thread\n",
    "from time import sleep\n",
    "\n",
    "def worker():\n",
    "    for i in range(0, 10):\n",
    "        print('.', end='', flush=True)\n",
    "        sleep(1)\n",
    "\n",
    "print('Starting')\n",
    "\n",
    "# Create read object with reference to worker function\n",
    "t = Thread(target=worker)\n",
    "# Start the thread object\n",
    "t.start()\n",
    "\n",
    "# Wait for the thread to complete\n",
    "t.join()\n",
    "print('\\nDone')"
   ]
  },
  {
   "cell_type": "code",
   "execution_count": 6,
   "metadata": {},
   "outputs": [
    {
     "name": "stdout",
     "output_type": "stream",
     "text": [
      "Starting\n",
      "ABCDone\n",
      "ABCABCABCABCABCABCABCABCABC"
     ]
    }
   ],
   "source": [
    "from threading import Thread\n",
    "from time import sleep\n",
    "\n",
    "def worker(msg):\n",
    "    for i in range(0, 10):\n",
    "        print(msg, end='', flush=True)\n",
    "        sleep(1)\n",
    "\n",
    "print('Starting')\n",
    "t1 = Thread(target=worker, args='A')\n",
    "t2 = Thread(target=worker, args='B')\n",
    "t3 = Thread(target=worker, args='C')\n",
    "t1.start()\n",
    "t2.start()\n",
    "t3.start()\n",
    "\n",
    "print('Done')"
   ]
  },
  {
   "cell_type": "code",
   "execution_count": 10,
   "metadata": {},
   "outputs": [],
   "source": [
    "from threading import Thread\n",
    "from time import sleep\n",
    "\n",
    "class WorkerThread(Thread):\n",
    "    def __init__(self, daemon=None, target=None, name=None):\n",
    "        super().__init__(daemon=daemon, target=target, name=name)\n",
    "    \n",
    "    def run(self):\n",
    "        for i in range(0, 10):\n",
    "            print('.', end='', flush=True)\n",
    "            sleep(1)"
   ]
  },
  {
   "cell_type": "code",
   "execution_count": 11,
   "metadata": {},
   "outputs": [
    {
     "name": "stdout",
     "output_type": "stream",
     "text": [
      "Starting\n",
      ".\n",
      "Done\n",
      "........."
     ]
    }
   ],
   "source": [
    "print('Starting')\n",
    "t = WorkerThread()\n",
    "t.start()\n",
    "print('\\nDone')"
   ]
  },
  {
   "cell_type": "code",
   "execution_count": 12,
   "metadata": {},
   "outputs": [
    {
     "name": "stdout",
     "output_type": "stream",
     "text": [
      "Starting\n",
      "CCCCCDone\n",
      "CCCCC"
     ]
    }
   ],
   "source": [
    "from threading import Thread\n",
    "from time import sleep\n",
    "\n",
    "def worker(msg):\n",
    "    for i in range(0, 10):\n",
    "        print(msg, end='', flush=True)\n",
    "        sleep(1)\n",
    "\n",
    "print('Starting')\n",
    "\n",
    "# Create a daemon thread\n",
    "d = Thread(daemon=True, target=worker, args='C')\n",
    "d.start()\n",
    "sleep(5)\n",
    "\n",
    "print('Done')"
   ]
  },
  {
   "cell_type": "code",
   "execution_count": 16,
   "metadata": {},
   "outputs": [
    {
     "name": "stdout",
     "output_type": "stream",
     "text": [
      "ABC\n",
      "MainThread\n",
      "Thread-2\n",
      "Thread-3\n",
      "IPythonHistorySavingThread\n",
      "Thread-1\n",
      "worker\n",
      "Thread-18\n",
      "daemon\n",
      "BACABCACBACBACBABCABCABCABC"
     ]
    }
   ],
   "source": [
    "import threading\n",
    "from threading import Thread\n",
    "from time import sleep\n",
    "\n",
    "def worker(msg):\n",
    "    for i in range(0, 10):\n",
    "        print(msg, end='', flush=True)\n",
    "        sleep(1)\n",
    "        \n",
    "t1 = Thread(name='worker', target=worker, args='A')\n",
    "t2 = Thread(target=worker, args='B')\n",
    "d = Thread(daemon=True, name='daemon', target=worker, args='C')\n",
    "\n",
    "t1.start()\n",
    "t2.start()\n",
    "d.start()\n",
    "\n",
    "print()\n",
    "for t in threading.enumerate():\n",
    "    print(t.getName())"
   ]
  },
  {
   "cell_type": "code",
   "execution_count": 17,
   "metadata": {},
   "outputs": [
    {
     "name": "stdout",
     "output_type": "stream",
     "text": [
      "MainThread  - Starting\n",
      "MainThread  - No value yet\n",
      "W0  - No value yet\n",
      "W0  - value = 88\n",
      "W1MainThread  - No value yet\n",
      "MainThread   - Done\n",
      " - No value yet\n",
      "W1  - value = 96\n"
     ]
    }
   ],
   "source": [
    "from threading import Thread, local, currentThread\n",
    "from random import randint\n",
    "\n",
    "def show_value(data):\n",
    "    try:\n",
    "        val = data.value\n",
    "    except AttributeError:\n",
    "        print(currentThread().name, ' - No value yet')\n",
    "    else:\n",
    "        print(currentThread().name, ' - value =', val)\n",
    "        \n",
    "def worker(data):\n",
    "    show_value(data)\n",
    "    data.value = randint(1, 100)\n",
    "    show_value(data)\n",
    "    \n",
    "print(currentThread().name, ' - Starting')\n",
    "local_data = local()\n",
    "show_value(local_data)\n",
    "\n",
    "for i in range(2):\n",
    "    t = Thread(name='W' + str(i), target=worker, args=[local_data])\n",
    "    t.start()\n",
    "    \n",
    "show_value(local_data)\n",
    "print(currentThread().name, ' - Done')"
   ]
  },
  {
   "cell_type": "code",
   "execution_count": 19,
   "metadata": {},
   "outputs": [
    {
     "name": "stdout",
     "output_type": "stream",
     "text": [
      "Starting\n",
      "Done\n",
      "hello\n"
     ]
    }
   ],
   "source": [
    "from threading import Timer\n",
    "\n",
    "def hello():\n",
    "    print('hello')\n",
    "    \n",
    "print('Starting')\n",
    "t = Timer(5, hello)\n",
    "t.start()\n",
    "print('Done')"
   ]
  },
  {
   "cell_type": "code",
   "execution_count": 4,
   "metadata": {},
   "outputs": [
    {
     "name": "stdout",
     "output_type": "stream",
     "text": [
      "BEDEEBEEADEBEDECEEBDABCBBDDCBDABBCDADDACAACCACAACC"
     ]
    }
   ],
   "source": [
    "import threading\n",
    "from threading import Thread\n",
    "from time import sleep\n",
    "from random import randint\n",
    "\n",
    "def printer(msg, value):\n",
    "    for i in range(0, 10):\n",
    "        random = randint(1, value)\n",
    "        sleep(random)\n",
    "        print(msg, end='', flush=True)\n",
    "\n",
    "t1 = Thread(target=printer, args=('A', 10))\n",
    "t2 = Thread(target=printer, args=('B', 5))\n",
    "t3 = Thread(target=printer, args=('C', 15))\n",
    "t4 = Thread(target=printer, args=('D', 7))\n",
    "t5 = Thread(target=printer, args=('E', 2))\n",
    "t1.start()\n",
    "t2.start()\n",
    "t3.start()\n",
    "t4.start()\n",
    "t5.start()"
   ]
  },
  {
   "cell_type": "code",
   "execution_count": null,
   "metadata": {},
   "outputs": [],
   "source": []
  }
 ],
 "metadata": {
  "kernelspec": {
   "display_name": "Python 3",
   "language": "python",
   "name": "python3"
  },
  "language_info": {
   "codemirror_mode": {
    "name": "ipython",
    "version": 3
   },
   "file_extension": ".py",
   "mimetype": "text/x-python",
   "name": "python",
   "nbconvert_exporter": "python",
   "pygments_lexer": "ipython3",
   "version": "3.6.9"
  }
 },
 "nbformat": 4,
 "nbformat_minor": 4
}
