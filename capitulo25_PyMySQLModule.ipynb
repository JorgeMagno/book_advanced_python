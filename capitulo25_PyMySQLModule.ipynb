{
 "cells": [
  {
   "cell_type": "code",
   "execution_count": 1,
   "metadata": {},
   "outputs": [],
   "source": [
    "import pymysql"
   ]
  },
  {
   "cell_type": "code",
   "execution_count": 13,
   "metadata": {},
   "outputs": [],
   "source": [
    "class Student:\n",
    "    def __init__(self, id, name, surname, subject, email):\n",
    "        self.id = id\n",
    "        self.name = name\n",
    "        self.surname = surname\n",
    "        self.subject = subject\n",
    "        self.email = email\n",
    "    def __str__(self):\n",
    "        return 'Student: ' + name + ' ' + surname + ' - ' + subject + ' - ' + email"
   ]
  },
  {
   "cell_type": "code",
   "execution_count": 14,
   "metadata": {},
   "outputs": [],
   "source": [
    "# Open database connection\n",
    "connection = pymysql.connect(host='localhost',\n",
    "                             user='jorge', \n",
    "                             password='qwe123', \n",
    "                             database='testes_python')"
   ]
  },
  {
   "cell_type": "code",
   "execution_count": 15,
   "metadata": {},
   "outputs": [],
   "source": [
    "# prepare a cursor object using cursor() method\n",
    "cursor = connection.cursor()"
   ]
  },
  {
   "cell_type": "code",
   "execution_count": 16,
   "metadata": {},
   "outputs": [
    {
     "name": "stdout",
     "output_type": "stream",
     "text": [
      "cursor.rowcount 6\n",
      "cursor.description (('id', 3, None, 4, 4, 0, False), ('nome', 253, None, 120, 120, 0, True), ('sobrenome', 253, None, 120, 120, 0, True), ('area', 253, None, 120, 120, 0, True), ('email', 253, None, 200, 200, 0, True))\n"
     ]
    }
   ],
   "source": [
    "# execute SQL query using execute() method.\n",
    "cursor.execute('SELECT * FROM alunos')\n",
    "print('cursor.rowcount', cursor.rowcount)\n",
    "print('cursor.description', cursor.description)"
   ]
  },
  {
   "cell_type": "code",
   "execution_count": 17,
   "metadata": {},
   "outputs": [
    {
     "name": "stdout",
     "output_type": "stream",
     "text": [
      "Student: Phoebe Cooke - Animação - pc@my.com\n",
      "Student: Gryff Jones - Jogos - grj@my.com\n",
      "Student: Adam Fosh - Música - af@my.com\n",
      "Student: Jasmine Smith - Jogos - js@my.com\n",
      "Student: Tom Jones - Música - tj@my.com\n",
      "Student: James Andrews - Jogos - ja@my.com\n"
     ]
    }
   ],
   "source": [
    "data = cursor.fetchall()\n",
    "for row in data:\n",
    "    student_id, name, surname, subject, email = row\n",
    "    student = Student(student_id, name, surname, subject, email)\n",
    "    print(student)"
   ]
  },
  {
   "cell_type": "code",
   "execution_count": 1,
   "metadata": {},
   "outputs": [],
   "source": [
    "import pymysql"
   ]
  },
  {
   "cell_type": "code",
   "execution_count": 2,
   "metadata": {},
   "outputs": [],
   "source": [
    "# Open database connection\n",
    "connection = pymysql.connect(host='localhost',\n",
    "                             user='jorge', \n",
    "                             password='qwe123', \n",
    "                             database='testes_python')"
   ]
  },
  {
   "cell_type": "code",
   "execution_count": 4,
   "metadata": {},
   "outputs": [],
   "source": [
    "# prepare a cursor object using cursor() method\n",
    "cursor = connection.cursor()\n",
    "try:\n",
    "    # Execute INSERT command\n",
    "    cursor.execute(\"INSERT INTO alunos (id, nome, sobrenome, area, email) VALUES (7, 'Denise', 'Byrne', 'History', 'db@my.com')\")\n",
    "    # Commit the changes to the database\n",
    "    connection.commit()\n",
    "except:\n",
    "    # Something went wrong\n",
    "    # rollback the changes\n",
    "    connection.rollback()\n",
    "# Close the database connection\n",
    "connection.close()"
   ]
  },
  {
   "cell_type": "code",
   "execution_count": 15,
   "metadata": {},
   "outputs": [],
   "source": [
    "import pymysql"
   ]
  },
  {
   "cell_type": "code",
   "execution_count": 10,
   "metadata": {},
   "outputs": [],
   "source": [
    "# Open database connection\n",
    "connection = pymysql.connect(host='localhost',\n",
    "                             user='jorge', \n",
    "                             password='qwe123', \n",
    "                             database='testes_python')"
   ]
  },
  {
   "cell_type": "code",
   "execution_count": 11,
   "metadata": {},
   "outputs": [],
   "source": [
    "# prepare a cursor object using cursor() method\n",
    "cursor = connection.cursor()\n",
    "try:\n",
    "    # Execute UPDATE command\n",
    "    cursor.execute(\"UPDATE alunos SET email = 'denise@my.com' WHERE id = 7\")\n",
    "    # Commit the changes to the database\n",
    "    connection.commit()\n",
    "except:\n",
    "    # rollback the changes if an exception / error\n",
    "    connection.rollback()\n",
    "# Close the database connection\n",
    "connection.close()"
   ]
  },
  {
   "cell_type": "code",
   "execution_count": 11,
   "metadata": {},
   "outputs": [],
   "source": [
    "# prepare a cursor object using cursor() method\n",
    "cursor = connection.cursor()\n",
    "try:\n",
    "    # Execute DELETE command\n",
    "    cursor.execute(\"DELETE FROM alunos WHERE id = 6\")\n",
    "    # Commit the changes to the database\n",
    "    connection.commit()\n",
    "except:\n",
    "    # rollback the changes if an exception / error\n",
    "    connection.rollback()\n",
    "# Close the database connection\n",
    "connection.close()"
   ]
  },
  {
   "cell_type": "code",
   "execution_count": 17,
   "metadata": {},
   "outputs": [],
   "source": [
    "# prepare a cursor object using cursor() method\n",
    "cursor = connection.cursor()\n",
    "try:\n",
    "    # Execute CREATE command\n",
    "    cursor.execute(\"CREATE TABLE log (message VARCHAR(100) NOT NULL)\")\n",
    "    # Commit the changes to the database\n",
    "    connection.commit()\n",
    "except:\n",
    "    # rollback the changes if an exception / error\n",
    "    connection.rollback()\n",
    "# Close the database connection\n",
    "connection.close()"
   ]
  },
  {
   "cell_type": "code",
   "execution_count": 1,
   "metadata": {},
   "outputs": [],
   "source": [
    "import pymysql\n",
    "\n",
    "class Account:\n",
    "    def __init__(self, number,holder, balance, type_account):\n",
    "        self.number = number\n",
    "        self.holder = holder\n",
    "        self.balance = balance\n",
    "        self.type_account = type_account\n",
    "        \n",
    "        # Open database connection\n",
    "        connection = pymysql.connect(host='localhost',\n",
    "                             user='jorge', \n",
    "                             password='qwe123', \n",
    "                             database='testes_python')\n",
    "        \n",
    "        # prepare a cursor object using cursor() method\n",
    "        cursor = connection.cursor()\n",
    "        cursor.execute('SELECT * FROM transactions')\n",
    "        id = cursor.rowcount\n",
    "        print(id)\n",
    "    \n",
    "        try:\n",
    "            print('executou')\n",
    "            # Execute INSERT command\n",
    "            cursor.execute(\"INSERT INTO acc_info (idacc_info, name) VALUES (\"+ str(number) +\", '\" + holder + \"')\")\n",
    "            # Commit the changes to the database\n",
    "            connection.commit()\n",
    "        except:\n",
    "            # Something went wrong\n",
    "            # rollback the changes\n",
    "            connection.rollback()\n",
    "            \n",
    "        try:\n",
    "            print('executou de novo')\n",
    "            # Execute INSERT command\n",
    "            cursor.execute(\"INSERT into transactions (idtransactions, type, amount, account) VALUES (\" + str(id) + \", 'deposit',\" + str(balance) + \",\" + str(number) + \") \")\n",
    "            # Commit the changes to the database\n",
    "            connection.commit()\n",
    "        except:\n",
    "            # Something went wrong\n",
    "            # rollback the changes\n",
    "            connection.rollback()\n",
    "            \n",
    "        # Close the database connection\n",
    "        connection.close()\n",
    "        \n",
    "    def deposit(self, amount, id, tipo):\n",
    "        query = \"INSERT into transactions (idtransactions, type, amount, account) VALUES (\" + str(id) + \", '\"+ tipo +\"',\" + str(amount) + \",\" + str(self.number) + \")\"\n",
    "        self.balance += amount\n",
    "        return query\n",
    "    \n",
    "    def withdraw(self, amount, id, tipo):\n",
    "        query = \"INSERT into transactions (idtransactions, type, amount, account) VALUES (\" + str(id) + \", '\"+ tipo +\"',\" + str(amount) + \",\" + str(self.number) + \")\"\n",
    "        self.balance -= amount\n",
    "        return query\n",
    "    \n",
    "    def get_balance(self):\n",
    "        return self.balance"
   ]
  },
  {
   "cell_type": "code",
   "execution_count": 2,
   "metadata": {},
   "outputs": [
    {
     "name": "stdout",
     "output_type": "stream",
     "text": [
      "3\n",
      "executou\n",
      "executou de novo\n"
     ]
    }
   ],
   "source": [
    "acc = Account('13', 'Jorginho', 15.05, 'current')"
   ]
  },
  {
   "cell_type": "code",
   "execution_count": 4,
   "metadata": {},
   "outputs": [
    {
     "name": "stdout",
     "output_type": "stream",
     "text": [
      "5\n",
      "executou\n",
      "INSERT into transactions (idtransactions, type, amount, account) VALUES (5, 'deposit',25.5,13)\n"
     ]
    }
   ],
   "source": [
    "# Open database connection\n",
    "connection = pymysql.connect(host='localhost',\n",
    "                             user='jorge', \n",
    "                             password='qwe123', \n",
    "                             database='testes_python')\n",
    "        \n",
    "# prepare a cursor object using cursor() method\n",
    "cursor = connection.cursor()\n",
    "cursor.execute('SELECT * FROM transactions')\n",
    "id = cursor.rowcount\n",
    "print(id)\n",
    "    \n",
    "try:\n",
    "    print('executou')\n",
    "    # Execute INSERT command\n",
    "    query = acc.deposit(25.50, id, 'deposit')\n",
    "    print(query)\n",
    "    cursor.execute(query)\n",
    "    # Commit the changes to the database\n",
    "    connection.commit()\n",
    "except:\n",
    "            # Something went wrong\n",
    "            # rollback the changes\n",
    "    connection.rollback()\n",
    "connection.close()"
   ]
  },
  {
   "cell_type": "code",
   "execution_count": 3,
   "metadata": {},
   "outputs": [
    {
     "name": "stdout",
     "output_type": "stream",
     "text": [
      "4\n",
      "executou\n",
      "INSERT into transactions (idtransactions, type, amount, account) VALUES (4, 'retirada',15.5,13)\n"
     ]
    }
   ],
   "source": [
    "# Open database connection\n",
    "connection = pymysql.connect(host='localhost',\n",
    "                             user='jorge', \n",
    "                             password='qwe123', \n",
    "                             database='testes_python')\n",
    "        \n",
    "# prepare a cursor object using cursor() method\n",
    "cursor = connection.cursor()\n",
    "cursor.execute('SELECT * FROM transactions')\n",
    "id = cursor.rowcount\n",
    "print(id)\n",
    "    \n",
    "try:\n",
    "    print('executou')\n",
    "    # Execute INSERT command\n",
    "    query = acc.withdraw(15.50, id, 'retirada')\n",
    "    print(query)\n",
    "    cursor.execute(query)\n",
    "    # Commit the changes to the database\n",
    "    connection.commit()\n",
    "except:\n",
    "            # Something went wrong\n",
    "            # rollback the changes\n",
    "    connection.rollback()\n",
    "connection.close()"
   ]
  },
  {
   "cell_type": "code",
   "execution_count": null,
   "metadata": {},
   "outputs": [],
   "source": []
  }
 ],
 "metadata": {
  "kernelspec": {
   "display_name": "Python 3",
   "language": "python",
   "name": "python3"
  },
  "language_info": {
   "codemirror_mode": {
    "name": "ipython",
    "version": 3
   },
   "file_extension": ".py",
   "mimetype": "text/x-python",
   "name": "python",
   "nbconvert_exporter": "python",
   "pygments_lexer": "ipython3",
   "version": "3.6.9"
  }
 },
 "nbformat": 4,
 "nbformat_minor": 4
}
