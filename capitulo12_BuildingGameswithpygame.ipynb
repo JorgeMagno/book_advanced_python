{
 "cells": [
  {
   "cell_type": "code",
   "execution_count": 3,
   "metadata": {},
   "outputs": [
    {
     "name": "stdout",
     "output_type": "stream",
     "text": [
      "pygame 1.9.6\n",
      "Hello from the pygame community. https://www.pygame.org/contribute.html\n",
      "Starting Game\n",
      "Initialising pygame\n",
      "Initialising HelloWorldGame\n",
      "Update display\n",
      "Starting main Game Playing Loop\n",
      "Received Quit Event: <Event(12-Quit {})>\n",
      "Game Over\n"
     ]
    }
   ],
   "source": [
    "import pygame\n",
    "def main():\n",
    "    print('Starting Game')\n",
    "    print('Initialising pygame')\n",
    "    pygame.init() # Required by every pygame application\n",
    "    print('Initialising HelloWorldGame')\n",
    "    pygame.display.set_mode((200, 100))\n",
    "    pygame.display.set_caption('Hello World')\n",
    "    print('Update display')\n",
    "    pygame.display.update()\n",
    "    print('Starting main Game Playing Loop')\n",
    "    running = True\n",
    "    while running:\n",
    "        for event in pygame.event.get():\n",
    "            if event.type == pygame.QUIT:\n",
    "                print('Received Quit Event:', event)\n",
    "                running = False\n",
    "    print('Game Over')\n",
    "    pygame.quit()\n",
    "if __name__ == '__main__':\n",
    "    main()"
   ]
  },
  {
   "cell_type": "code",
   "execution_count": 6,
   "metadata": {},
   "outputs": [
    {
     "name": "stdout",
     "output_type": "stream",
     "text": [
      "Initialising PyGame\n",
      "Initialising Box Game\n",
      "Update display\n",
      "Setup the Clock\n",
      "Starting main Game Playing Loop\n",
      "Received Mouse Event <Event(5-MouseButtonDown {'pos': (224, 162), 'button': 1, 'window': None})>\n",
      "Received Mouse Event <Event(5-MouseButtonDown {'pos': (213, 119), 'button': 1, 'window': None})>\n",
      "Received Mouse Event <Event(5-MouseButtonDown {'pos': (83, 151), 'button': 1, 'window': None})>\n",
      "Received Mouse Event <Event(5-MouseButtonDown {'pos': (207, 196), 'button': 1, 'window': None})>\n",
      "Received Mouse Event <Event(5-MouseButtonDown {'pos': (281, 173), 'button': 1, 'window': None})>\n",
      "Received Mouse Event <Event(5-MouseButtonDown {'pos': (275, 115), 'button': 1, 'window': None})>\n",
      "Received Mouse Event <Event(5-MouseButtonDown {'pos': (152, 111), 'button': 1, 'window': None})>\n",
      "Received Mouse Event <Event(5-MouseButtonDown {'pos': (236, 65), 'button': 1, 'window': None})>\n",
      "Received Mouse Event <Event(5-MouseButtonDown {'pos': (346, 208), 'button': 1, 'window': None})>\n",
      "Received Quit Event: <Event(12-Quit {})>\n",
      "Game Over\n"
     ]
    }
   ],
   "source": [
    "import pygame\n",
    "FRAME_REFRESH_RATE = 30\n",
    "BLUE = (0, 0, 255)\n",
    "BACKGROUND = (255, 255, 255) # White\n",
    "WIDTH = 10\n",
    "HEIGHT = 10\n",
    "def main():\n",
    "    print('Initialising PyGame')\n",
    "    pygame.init() # Required by every PyGame application\n",
    "    print('Initialising Box Game')\n",
    "    display_surface = pygame.display.set_mode((400, 300))\n",
    "    pygame.display.set_caption('Box Game')\n",
    "    print('Update display')\n",
    "    pygame.display.update()\n",
    "    print('Setup the Clock')\n",
    "    clock = pygame.time.Clock()\n",
    "    # Clear the screen of current contents\n",
    "    display_surface.fill(BACKGROUND)\n",
    "    print('Starting main Game Playing Loop')\n",
    "    running = True\n",
    "    while running:\n",
    "        for event in pygame.event.get():\n",
    "            if event.type == pygame.QUIT:\n",
    "                print('Received Quit Event:', event)\n",
    "                running = False\n",
    "            elif event.type == pygame.MOUSEBUTTONDOWN:\n",
    "                print('Received Mouse Event', event)\n",
    "                x, y = event.pos\n",
    "                pygame.draw.rect(display_surface, BLUE, [x, y, WIDTH, HEIGHT])\n",
    "        # Update the display\n",
    "        pygame.display.update()\n",
    "        # Defines the frame rate - the number of frames per second\n",
    "        # Should be called once per frame (but only once)\n",
    "        clock.tick(FRAME_REFRESH_RATE)\n",
    "    print('Game Over')\n",
    "    # Now tidy up and quit Python\n",
    "    pygame.quit()\n",
    "if __name__ == '__main__':\n",
    "    main()"
   ]
  },
  {
   "cell_type": "code",
   "execution_count": null,
   "metadata": {},
   "outputs": [],
   "source": []
  }
 ],
 "metadata": {
  "kernelspec": {
   "display_name": "Python 3",
   "language": "python",
   "name": "python3"
  },
  "language_info": {
   "codemirror_mode": {
    "name": "ipython",
    "version": 3
   },
   "file_extension": ".py",
   "mimetype": "text/x-python",
   "name": "python",
   "nbconvert_exporter": "python",
   "pygments_lexer": "ipython3",
   "version": "3.6.9"
  }
 },
 "nbformat": 4,
 "nbformat_minor": 4
}
