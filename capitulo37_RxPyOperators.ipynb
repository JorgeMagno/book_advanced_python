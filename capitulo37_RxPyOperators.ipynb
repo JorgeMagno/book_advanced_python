{
 "cells": [
  {
   "cell_type": "code",
   "execution_count": 1,
   "metadata": {},
   "outputs": [
    {
     "name": "stdout",
     "output_type": "stream",
     "text": [
      "Lambda Received '2'  is a string  True\n",
      "Lambda Received '3'  is a string  True\n",
      "Lambda Received '5'  is a string  True\n",
      "Lambda Received '7'  is a string  True\n"
     ]
    },
    {
     "data": {
      "text/plain": [
       "<rx.disposable.disposable.Disposable at 0x7fd0c051bb00>"
      ]
     },
     "execution_count": 1,
     "metadata": {},
     "output_type": "execute_result"
    }
   ],
   "source": [
    "# Apply a transformation to a data source to convert\n",
    "# integers into strings\n",
    "import rx\n",
    "from rx import operators as op\n",
    "# Set up a source with a map function\n",
    "source = rx.from_list([2, 3, 5, 7]).pipe(op.map(lambda value: \"'\" + str(value) + \"'\"))\n",
    "# Subscribe a lambda function\n",
    "source.subscribe(lambda value: print('Lambda Received', value, ' is a string ', isinstance(value, str)))"
   ]
  },
  {
   "cell_type": "code",
   "execution_count": 3,
   "metadata": {},
   "outputs": [
    {
     "name": "stdout",
     "output_type": "stream",
     "text": [
      "2,3,5,7,10,11,12,"
     ]
    },
    {
     "data": {
      "text/plain": [
       "<rx.disposable.disposable.Disposable at 0x7fd0c04ce748>"
      ]
     },
     "execution_count": 3,
     "metadata": {},
     "output_type": "execute_result"
    }
   ],
   "source": [
    "# An example illustrating how to merge two data sources\n",
    "import rx\n",
    "# Set up two sources\n",
    "source1 = rx.from_list([2, 3, 5, 7])\n",
    "source2 = rx.from_list([10, 11, 12])\n",
    "# Merge two sources into one\n",
    "rx.merge(source1, source2).subscribe(lambda v: print(v, end=','))"
   ]
  },
  {
   "cell_type": "code",
   "execution_count": 4,
   "metadata": {},
   "outputs": [
    {
     "name": "stdout",
     "output_type": "stream",
     "text": [
      "Lambda Received 2\n",
      "Lambda Received 4\n",
      "Lambda Received 8\n"
     ]
    },
    {
     "data": {
      "text/plain": [
       "<rx.disposable.disposable.Disposable at 0x7fd0c04cea58>"
      ]
     },
     "execution_count": 4,
     "metadata": {},
     "output_type": "execute_result"
    }
   ],
   "source": [
    "# Filter source for even numbers\n",
    "import rx\n",
    "from rx import operators as op\n",
    "# Set up a source with a filter\n",
    "source = rx.from_list([2, 3, 5, 7, 4, 9, 8]).pipe(op.filter(lambda value: value % 2 == 0))\n",
    "# Subscribe a lambda function\n",
    "source.subscribe(lambda value: print('Lambda Received', value))"
   ]
  },
  {
   "cell_type": "code",
   "execution_count": 5,
   "metadata": {},
   "outputs": [
    {
     "name": "stdout",
     "output_type": "stream",
     "text": [
      "Received 2\n",
      "Received 3\n",
      "Received 5\n",
      "Received 4\n"
     ]
    },
    {
     "data": {
      "text/plain": [
       "<rx.disposable.disposable.Disposable at 0x7fd0c04ce860>"
      ]
     },
     "execution_count": 5,
     "metadata": {},
     "output_type": "execute_result"
    }
   ],
   "source": [
    "# Use distinct to suppress duplicates\n",
    "source = rx.from_list([2, 3, 5, 2, 4, 3, 2]).pipe(op.distinct())\n",
    "# Subscribe a lambda function\n",
    "source.subscribe(lambda value: print('Received', value))"
   ]
  },
  {
   "cell_type": "code",
   "execution_count": 6,
   "metadata": {},
   "outputs": [
    {
     "name": "stdout",
     "output_type": "stream",
     "text": [
      "17\n"
     ]
    },
    {
     "data": {
      "text/plain": [
       "<rx.disposable.disposable.Disposable at 0x7fd0c04dd780>"
      ]
     },
     "execution_count": 6,
     "metadata": {},
     "output_type": "execute_result"
    }
   ],
   "source": [
    "# Example of summing all the values in a data stream\n",
    "import rx\n",
    "from rx import operators as op\n",
    "# Set up a source and apply sum\n",
    "rx.from_list([2, 3, 5, 7]).pipe(op.sum()).subscribe(lambda v: print(v))"
   ]
  },
  {
   "cell_type": "code",
   "execution_count": 7,
   "metadata": {},
   "outputs": [
    {
     "name": "stdout",
     "output_type": "stream",
     "text": [
      "2\n",
      "5\n",
      "10\n",
      "17\n"
     ]
    },
    {
     "data": {
      "text/plain": [
       "<rx.disposable.disposable.Disposable at 0x7fd0c04dd860>"
      ]
     },
     "execution_count": 7,
     "metadata": {},
     "output_type": "execute_result"
    }
   ],
   "source": [
    "import rx\n",
    "from rx import operators as op\n",
    "# Rolling or incremental sum\n",
    "rx.from_([2, 3, 5, 7]).pipe(op.scan(lambda subtotal, i: subtotal+i)).subscribe(lambda v: print(v))"
   ]
  },
  {
   "cell_type": "code",
   "execution_count": 8,
   "metadata": {},
   "outputs": [
    {
     "name": "stdout",
     "output_type": "stream",
     "text": [
      "Received '2'\n",
      "Received '4'\n",
      "Received '8'\n"
     ]
    },
    {
     "data": {
      "text/plain": [
       "<rx.disposable.disposable.Disposable at 0x7fd0c04e8240>"
      ]
     },
     "execution_count": 8,
     "metadata": {},
     "output_type": "execute_result"
    }
   ],
   "source": [
    "# Example of chaining operators together\n",
    "import rx\n",
    "from rx import operators as op\n",
    "# Set up a source with a filter\n",
    "source = rx.from_list([2, 3, 5, 7, 4, 9, 8])\n",
    "pipe = source.pipe(op.filter(lambda value: value % 2 == 0), op.map(lambda value: \"'\" + str(value) + \"'\"))\n",
    "# Subscribe a lambda function\n",
    "pipe.subscribe(lambda value: print('Received', value))"
   ]
  },
  {
   "cell_type": "code",
   "execution_count": 1,
   "metadata": {},
   "outputs": [],
   "source": [
    "stocks = (('APPL', 12.45), ('IBM', 15.55), ('MSFT', 5.66), ('APPL', 13.33))"
   ]
  },
  {
   "cell_type": "code",
   "execution_count": 5,
   "metadata": {},
   "outputs": [
    {
     "name": "stdout",
     "output_type": "stream",
     "text": [
      "Received ('APPL', 12.45)\n",
      "Received ('APPL', 13.33)\n"
     ]
    },
    {
     "data": {
      "text/plain": [
       "<rx.disposable.disposable.Disposable at 0x7f95d8542390>"
      ]
     },
     "execution_count": 5,
     "metadata": {},
     "output_type": "execute_result"
    }
   ],
   "source": [
    "import rx\n",
    "from rx import operators as op\n",
    "# Set up a source with a filter\n",
    "pipe = source.pipe(op.filter(lambda value: value[0] == 'APPL'), op.map(lambda value: str(value)))\n",
    "pipe.subscribe(lambda value: print('Received', value))"
   ]
  },
  {
   "cell_type": "code",
   "execution_count": 6,
   "metadata": {},
   "outputs": [
    {
     "name": "stdout",
     "output_type": "stream",
     "text": [
      "Received ('IBM', 15.55)\n"
     ]
    },
    {
     "data": {
      "text/plain": [
       "<rx.disposable.disposable.Disposable at 0x7f95d848f128>"
      ]
     },
     "execution_count": 6,
     "metadata": {},
     "output_type": "execute_result"
    }
   ],
   "source": [
    "import rx\n",
    "from rx import operators as op\n",
    "# Set up a source with a filter\n",
    "pipe = source.pipe(op.filter(lambda value: value[1] > 15.00), op.map(lambda value: str(value)))\n",
    "pipe.subscribe(lambda value: print('Received', value))"
   ]
  },
  {
   "cell_type": "code",
   "execution_count": 11,
   "metadata": {},
   "outputs": [
    {
     "name": "stdout",
     "output_type": "stream",
     "text": [
      "Received 12.89\n"
     ]
    },
    {
     "data": {
      "text/plain": [
       "<rx.disposable.disposable.Disposable at 0x7f95d84acba8>"
      ]
     },
     "execution_count": 11,
     "metadata": {},
     "output_type": "execute_result"
    }
   ],
   "source": [
    "import rx\n",
    "from rx import operators as op\n",
    "# Set up a source with a filter\n",
    "pipe = source.pipe(op.filter(lambda value: value[0] == 'APPL'), op.sum(lambda value: value[1]))\n",
    "pipe.subscribe(lambda value: print('Received', value/2))"
   ]
  },
  {
   "cell_type": "code",
   "execution_count": 2,
   "metadata": {},
   "outputs": [],
   "source": [
    "stocks2 = (('GOOG', 8.95), ('APPL', 7.65), ('APPL', 12.45), ('MSFT', 5.66), ('GOOG', 7.56), ('IBM', 12.76))"
   ]
  },
  {
   "cell_type": "code",
   "execution_count": 3,
   "metadata": {},
   "outputs": [],
   "source": [
    "import rx\n",
    "# Set up two sources\n",
    "source1 = rx.from_list(stocks)\n",
    "source2 = rx.from_list(stocks2)\n",
    "# Merge two sources into one\n",
    "sourceall = rx.merge(source1, source2)"
   ]
  },
  {
   "cell_type": "code",
   "execution_count": 32,
   "metadata": {},
   "outputs": [
    {
     "name": "stdout",
     "output_type": "stream",
     "text": [
      "Received ('IBM', 15.55)\n"
     ]
    },
    {
     "data": {
      "text/plain": [
       "<rx.disposable.disposable.Disposable at 0x7f95da93b860>"
      ]
     },
     "execution_count": 32,
     "metadata": {},
     "output_type": "execute_result"
    }
   ],
   "source": [
    "import rx\n",
    "from rx import operators as op\n",
    "# Set up a source with a filter\n",
    "pipe = sourceall.pipe(op.reduce(lambda value, y: value if(value[1] > y[1]) else y),\n",
    "                      op.map(lambda value: str(value)))\n",
    "pipe.subscribe(lambda value: print('Received', value))"
   ]
  },
  {
   "cell_type": "code",
   "execution_count": 33,
   "metadata": {},
   "outputs": [
    {
     "name": "stdout",
     "output_type": "stream",
     "text": [
      "Received ('MSFT', 5.66)\n"
     ]
    },
    {
     "data": {
      "text/plain": [
       "<rx.disposable.disposable.Disposable at 0x7f95d85e0748>"
      ]
     },
     "execution_count": 33,
     "metadata": {},
     "output_type": "execute_result"
    }
   ],
   "source": [
    "import rx\n",
    "from rx import operators as op\n",
    "# Set up a source with a filter\n",
    "pipe = sourceall.pipe(op.reduce(lambda value, y: value if(value[1] < y[1]) else y),\n",
    "                      op.map(lambda value: str(value)))\n",
    "pipe.subscribe(lambda value: print('Received', value))"
   ]
  },
  {
   "cell_type": "code",
   "execution_count": 6,
   "metadata": {},
   "outputs": [
    {
     "name": "stdout",
     "output_type": "stream",
     "text": [
      "Received ('APPL', 12.45)\n",
      "Received ('IBM', 15.55)\n",
      "Received ('MSFT', 5.66)\n",
      "Received ('APPL', 13.33)\n",
      "Received ('GOOG', 8.95)\n",
      "Received ('APPL', 7.65)\n",
      "Received ('GOOG', 7.56)\n",
      "Received ('IBM', 12.76)\n"
     ]
    },
    {
     "data": {
      "text/plain": [
       "<rx.disposable.disposable.Disposable at 0x7f44d0158e10>"
      ]
     },
     "execution_count": 6,
     "metadata": {},
     "output_type": "execute_result"
    }
   ],
   "source": [
    "import rx\n",
    "from rx import operators as op\n",
    "# Set up a source with a filter\n",
    "pipe = sourceall.pipe(op.distinct(lambda value: value))\n",
    "pipe.subscribe(lambda value: print('Received', value))"
   ]
  },
  {
   "cell_type": "code",
   "execution_count": null,
   "metadata": {},
   "outputs": [],
   "source": []
  }
 ],
 "metadata": {
  "kernelspec": {
   "display_name": "Python 3",
   "language": "python",
   "name": "python3"
  },
  "language_info": {
   "codemirror_mode": {
    "name": "ipython",
    "version": 3
   },
   "file_extension": ".py",
   "mimetype": "text/x-python",
   "name": "python",
   "nbconvert_exporter": "python",
   "pygments_lexer": "ipython3",
   "version": "3.6.9"
  }
 },
 "nbformat": 4,
 "nbformat_minor": 4
}
