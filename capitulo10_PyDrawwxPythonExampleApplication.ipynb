{
 "cells": [
  {
   "cell_type": "code",
   "execution_count": 1,
   "metadata": {},
   "outputs": [],
   "source": [
    "import wx"
   ]
  },
  {
   "cell_type": "code",
   "execution_count": 2,
   "metadata": {},
   "outputs": [],
   "source": [
    "class PyDrawConstants:\n",
    "    LINE_ID = 100\n",
    "    SQUARE_ID = 102\n",
    "    CIRCLE_ID = 103\n",
    "    TEXT_ID = 104\n",
    "    DELETE_ID = 105\n",
    "\n",
    "    SQUARE_MODE = 'square'\n",
    "    LINE_MODE = 'line'\n",
    "    CIRCLE_MODE = 'circle'\n",
    "    TEXT_MODE = 'Text'\n",
    "    DELETE_MODE = 'delete'"
   ]
  },
  {
   "cell_type": "code",
   "execution_count": 3,
   "metadata": {},
   "outputs": [],
   "source": [
    "class PyDrawFrame(wx.Frame):\n",
    "    \"\"\" Main Frame responsible for the\n",
    "    layout of the UI.\"\"\"\n",
    "    def __init__(self, title):\n",
    "        super().__init__(None, title=title, size=(300, 200))\n",
    "        # Set up the controller\n",
    "        self.controller = PyDrawController(self)\n",
    "        # Set up the layout fo the UI\n",
    "        self.vertical_box_sizer = wx.BoxSizer(wx.VERTICAL)\n",
    "        self.SetSizer(self.vertical_box_sizer)\n",
    "        # Set up the menu bar\n",
    "        self.SetMenuBar(PyDrawMenuBar())\n",
    "        # Set up the toolbar\n",
    "        self.vertical_box_sizer.Add(PyDrawToolBar(self), wx.ID_ANY, wx.EXPAND | wx.ALL, )\n",
    "        # Setup drawing panel\n",
    "        self.drawing_panel = DrawingPanel(self, self.controller.get_mode)\n",
    "        self.drawing_controller = self.drawing_panel.controller\n",
    "        # Add the Panel to the Frames Sizer\n",
    "        self.vertical_box_sizer.Add(self.drawing_panel, wx.ID_ANY, wx.EXPAND | wx.ALL)\n",
    "        # Set up the command event handling for the menu bar and tool bar\n",
    "        self.Bind(wx.EVT_MENU, self.controller.command_menu_handler)\n",
    "        self.Centre()"
   ]
  },
  {
   "cell_type": "code",
   "execution_count": 4,
   "metadata": {},
   "outputs": [],
   "source": [
    "class PyDrawMenuBar(wx.MenuBar):\n",
    "    def __init__(self):\n",
    "        super().__init__()\n",
    "        fileMenu = wx.Menu()\n",
    "        newMenuItem = wx.MenuItem(fileMenu, wx.ID_NEW, text=\"New\", kind=wx.ITEM_NORMAL)\n",
    "        newMenuItem.SetBitmap(wx.Bitmap(\"/home/jorge/Imagens/new.png\"))\n",
    "        fileMenu.Append(newMenuItem)\n",
    "        loadMenuItem = wx.MenuItem(fileMenu, wx.ID_OPEN, text=\"Open\", kind=wx.ITEM_NORMAL)\n",
    "        loadMenuItem.SetBitmap(wx.Bitmap(\"/home/jorge/Imagens/load.png\"))\n",
    "        fileMenu.Append(loadMenuItem)\n",
    "        fileMenu.AppendSeparator()\n",
    "        saveMenuItem = wx.MenuItem(fileMenu, wx.ID_SAVE, text=\"Save\", kind=wx.ITEM_NORMAL)\n",
    "        saveMenuItem.SetBitmap(wx.Bitmap(\"/home/jorge/Imagens/save.png\"))\n",
    "        fileMenu.Append(saveMenuItem)\n",
    "        fileMenu.AppendSeparator()\n",
    "        quit = wx.MenuItem(fileMenu, wx.ID_EXIT, '&Quit\\tCtrl+Q')\n",
    "        fileMenu.Append(quit)\n",
    "        self.Append(fileMenu, '&File')\n",
    "        drawingMenu = wx.Menu()\n",
    "        lineMenuItem = wx.MenuItem(drawingMenu, PyDrawConstants.LINE_ID, text=\"Line\", kind=wx.ITEM_NORMAL)\n",
    "        drawingMenu.Append(lineMenuItem)\n",
    "        squareMenuItem = wx.MenuItem(drawingMenu, PyDrawConstants.SQUARE_ID, text=\"Square\", kind=wx.ITEM_NORMAL)\n",
    "        drawingMenu.Append(squareMenuItem)\n",
    "        circleMenuItem = wx.MenuItem(drawingMenu, PyDrawConstants.CIRCLE_ID, text=\"Circle\", kind=wx.ITEM_NORMAL)\n",
    "        drawingMenu.Append(circleMenuItem)\n",
    "        textMenuItem = wx.MenuItem(drawingMenu, PyDrawConstants.TEXT_ID, text=\"Text\", kind=wx.ITEM_NORMAL)\n",
    "        drawingMenu.Append(textMenuItem)\n",
    "        deleteMenuItem = wx.MenuItem(drawingMenu, PyDrawConstants.DELETE_ID, text=\"Delete\", kind=wx.ITEM_NORMAL)\n",
    "        drawingMenu.Append(deleteMenuItem)\n",
    "        self.Append(drawingMenu, '&Drawing')"
   ]
  },
  {
   "cell_type": "code",
   "execution_count": 5,
   "metadata": {},
   "outputs": [],
   "source": [
    "class PyDrawToolBar(wx.ToolBar):\n",
    "    def __init__(self, parent):\n",
    "        super().__init__(parent)\n",
    "        self.AddTool(toolId=wx.ID_NEW, label=\"New\", bitmap=wx.Bitmap(\"/home/jorge/Imagens/new.png\"), \n",
    "                     shortHelp='Open drawing', kind=wx.ITEM_NORMAL)\n",
    "        self.AddTool(toolId=wx.ID_OPEN, label=\"Open\", bitmap=wx.Bitmap(\"/home/jorge/Imagens/load.png\"), \n",
    "                     shortHelp='Open drawing', kind=wx.ITEM_NORMAL)\n",
    "        self.AddTool(toolId=wx.ID_SAVE, label=\"Save\", bitmap=wx.Bitmap(\"/home/jorge/Imagens/save.png\"), \n",
    "                     shortHelp='Save drawing', kind=wx.ITEM_NORMAL)\n",
    "        self.Realize()"
   ]
  },
  {
   "cell_type": "code",
   "execution_count": 6,
   "metadata": {},
   "outputs": [],
   "source": [
    "class PyDrawController:\n",
    "    def __init__(self, view):\n",
    "        self.view = view\n",
    "        # Set the initial mode\n",
    "        self.mode = PyDrawConstants.SQUARE_MODE\n",
    "    def set_circle_mode(self):\n",
    "        self.mode = PyDrawConstants.CIRCLE_MODE\n",
    "    def set_line_mode(self):\n",
    "        self.mode = PyDrawConstants.LINE_MODE\n",
    "    def set_square_mode(self):\n",
    "        self.mode = PyDrawConstants.SQUARE_MODE\n",
    "    def set_text_mode(self):\n",
    "        self.mode = PyDrawConstants.TEXT_MODE\n",
    "    def set_delete_mode(self):\n",
    "        self.mode = PyDrawConstants.DELETE_MODE\n",
    "    def clear_drawing(self):\n",
    "        self.view.drawing_controller.clear()\n",
    "    def get_mode(self):\n",
    "        return self.mode\n",
    "    def command_menu_handler(self, command_event):\n",
    "        id = command_event.GetId()\n",
    "        if id == wx.ID_NEW:\n",
    "            print('Clear the drawing area')\n",
    "            self.clear_drawing()\n",
    "        elif id == wx.ID_OPEN:\n",
    "            print('Open a drawing file')\n",
    "        elif id == wx.ID_SAVE:\n",
    "            print('Save a drawing file')\n",
    "        elif id == wx.ID_EXIT:\n",
    "            print('Quite the application')\n",
    "            self.view.Close()\n",
    "        elif id == PyDrawConstants.LINE_ID:\n",
    "            print('set drawing mode to line')\n",
    "            self.set_line_mode()\n",
    "        elif id == PyDrawConstants.SQUARE_ID:\n",
    "            print('set drawing mode to square')\n",
    "            self.set_square_mode()\n",
    "        elif id == PyDrawConstants.CIRCLE_ID:\n",
    "            print('set drawing mode to circle')\n",
    "            self.set_circle_mode()\n",
    "        elif id == PyDrawConstants.TEXT_ID:\n",
    "            print('set drawing mode to Text')\n",
    "            self.set_text_mode()\n",
    "        elif id == PyDrawConstants.DELETE_ID:\n",
    "            print('set drawing mode to delete')\n",
    "            self.set_delete_mode()\n",
    "        else:\n",
    "            print('Unknown option', id)"
   ]
  },
  {
   "cell_type": "code",
   "execution_count": 7,
   "metadata": {},
   "outputs": [],
   "source": [
    "class DrawingModel:\n",
    "    def __init__(self):\n",
    "        self.contents = []\n",
    "    def clear_figures(self):\n",
    "        self.contents = []\n",
    "    def add_figure(self, figure):\n",
    "        self.contents.append(figure)"
   ]
  },
  {
   "cell_type": "code",
   "execution_count": 8,
   "metadata": {},
   "outputs": [],
   "source": [
    "class DrawingPanel(wx.Panel):\n",
    "    def __init__(self, parent, get_mode):\n",
    "        super().__init__(parent, -1)\n",
    "        self.SetBackgroundColour(wx.Colour(255, 255, 255))\n",
    "        self.model = DrawingModel()\n",
    "        self.controller = DrawingController(self, self.model, get_mode)\n",
    "        self.Bind(wx.EVT_PAINT, self.on_paint)\n",
    "        self.Bind(wx.EVT_LEFT_DOWN, self.controller.on_mouse_click)\n",
    "    def on_paint(self, event):\n",
    "        \"\"\"set up the device context (DC) for painting\"\"\"\n",
    "        dc = wx.PaintDC(self)\n",
    "        mouseReleased = wx.Remove(self)\n",
    "        for figure in self.model.contents:              \n",
    "            figure.on_paint(dc)"
   ]
  },
  {
   "cell_type": "code",
   "execution_count": 9,
   "metadata": {},
   "outputs": [],
   "source": [
    "class DrawingController:\n",
    "    def __init__(self, view, model, get_mode):\n",
    "        self.view = view\n",
    "        self.model = model\n",
    "        self.get_mode = get_mode\n",
    "    def on_mouse_click(self, mouse_event):\n",
    "        point = mouse_event.GetPosition()\n",
    "        self.add(self.get_mode(), point)\n",
    "    def add(self, mode, point, size=30):\n",
    "        if mode == PyDrawConstants.SQUARE_MODE:\n",
    "            fig = Square(self.view, point, wx.Size(size, size))\n",
    "        elif mode == PyDrawConstants.CIRCLE_MODE:\n",
    "            fig = Circle(self.view, point, size)\n",
    "        elif mode == PyDrawConstants.TEXT_MODE:\n",
    "            fig = Text(self.view, point, size)\n",
    "        elif mode == PyDrawConstants.LINE_MODE:\n",
    "            fig = Line(self.view, point, size)\n",
    "        self.model.add_figure(fig)\n",
    "    def clear(self):\n",
    "        self.model.clear_figures()\n",
    "        self.view.Refresh()"
   ]
  },
  {
   "cell_type": "code",
   "execution_count": 10,
   "metadata": {},
   "outputs": [],
   "source": [
    "class Figure(wx.Panel):\n",
    "    def __init__(self, parent, id=wx.ID_ANY, pos=None, size=None, style=wx.TAB_TRAVERSAL):\n",
    "        wx.Panel.__init__(self, parent, id=id, pos=pos, size=size, style=style)\n",
    "        self.point = pos\n",
    "        self.size = size\n",
    "\n",
    "    def on_paint(self, dc):\n",
    "        Pass"
   ]
  },
  {
   "cell_type": "code",
   "execution_count": 11,
   "metadata": {},
   "outputs": [],
   "source": [
    "class Square(Figure):\n",
    "    def __init__(self, parent, pos, size):\n",
    "        super().__init__(parent=parent, pos=pos, size=size)\n",
    "    def on_paint(self, dc):\n",
    "        dc.DrawRectangle(self.point, self.size)"
   ]
  },
  {
   "cell_type": "code",
   "execution_count": 12,
   "metadata": {},
   "outputs": [],
   "source": [
    "class Circle(Figure):\n",
    "    def __init__(self, parent, pos, size):\n",
    "        super().__init__(parent=parent, pos=pos, size=wx.Size(size, size))\n",
    "        self.radius = (size - 10) / 2\n",
    "        self.circle_center = wx.Point(self.point.x + self.radius, self.point.y + self.radius)\n",
    "    def on_paint(self, dc):\n",
    "        dc.DrawCircle(pt=self.circle_center, radius=self.radius)"
   ]
  },
  {
   "cell_type": "code",
   "execution_count": 13,
   "metadata": {},
   "outputs": [],
   "source": [
    "class Line(Figure):\n",
    "    def __init__(self, parent, pos, size):\n",
    "        super().__init__(parent=parent, pos=pos, size=wx.Size(size, size))\n",
    "        self.end_point = wx.Point(self.point.x + size, self.point.y + size)\n",
    "    def on_paint(self, dc):\n",
    "        dc.DrawLine(pt1=self.point, pt2=self.end_point)"
   ]
  },
  {
   "cell_type": "code",
   "execution_count": 14,
   "metadata": {},
   "outputs": [],
   "source": [
    "class Text(Figure):\n",
    "    def __init__(self, parent, pos, size):\n",
    "        super().__init__(parent=parent, pos=pos, size=wx.Size(size, size))\n",
    "    def on_paint(self, dc):\n",
    "        dc.DrawText(text='Text', pt=self.point)"
   ]
  },
  {
   "cell_type": "code",
   "execution_count": 15,
   "metadata": {},
   "outputs": [
    {
     "name": "stdout",
     "output_type": "stream",
     "text": [
      "Clear the drawing area\n",
      "Clear the drawing area\n",
      "set drawing mode to line\n",
      "set drawing mode to square\n",
      "set drawing mode to circle\n",
      "Clear the drawing area\n"
     ]
    },
    {
     "data": {
      "text/plain": [
       "0"
      ]
     },
     "execution_count": 15,
     "metadata": {},
     "output_type": "execute_result"
    }
   ],
   "source": [
    "class PyDrawApp(wx.App):\n",
    "    def OnInit(self):\n",
    "        \"\"\" Initialise the GUI display\"\"\"\n",
    "        frame = PyDrawFrame(title='PyDraw')\n",
    "        frame.Show()\n",
    "        return True\n",
    "# Run the GUI application\n",
    "app = PyDrawApp()\n",
    "app.MainLoop()"
   ]
  },
  {
   "cell_type": "code",
   "execution_count": null,
   "metadata": {},
   "outputs": [],
   "source": []
  }
 ],
 "metadata": {
  "kernelspec": {
   "display_name": "Python 3",
   "language": "python",
   "name": "python3"
  },
  "language_info": {
   "codemirror_mode": {
    "name": "ipython",
    "version": 3
   },
   "file_extension": ".py",
   "mimetype": "text/x-python",
   "name": "python",
   "nbconvert_exporter": "python",
   "pygments_lexer": "ipython3",
   "version": "3.6.9"
  }
 },
 "nbformat": 4,
 "nbformat_minor": 4
}
