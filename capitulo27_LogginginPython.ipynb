{
 "cells": [
  {
   "cell_type": "code",
   "execution_count": 1,
   "metadata": {},
   "outputs": [
    {
     "name": "stderr",
     "output_type": "stream",
     "text": [
      "This should be used with something unexpected\n"
     ]
    }
   ],
   "source": [
    "import logging\n",
    "logger = logging.getLogger()\n",
    "logger.error('This should be used with something unexpected')"
   ]
  },
  {
   "cell_type": "code",
   "execution_count": 3,
   "metadata": {},
   "outputs": [
    {
     "name": "stderr",
     "output_type": "stream",
     "text": [
      "DEBUG:root:This is to help with debugging\n",
      "INFO:root:This is just for information\n",
      "WARNING:root:This is a warning!\n",
      "ERROR:root:This should be used with something unexpected\n",
      "CRITICAL:root:Something serious\n"
     ]
    }
   ],
   "source": [
    "import logging\n",
    "\n",
    "logging.basicConfig(level=logging.DEBUG)\n",
    "logger = logging.getLogger()\n",
    "\n",
    "logger.debug('This is to help with debugging')\n",
    "logger.info('This is just for information')\n",
    "logger.warning('This is a warning!')\n",
    "logger.error('This should be used with something unexpected')\n",
    "logger.critical('Something serious')"
   ]
  },
  {
   "cell_type": "code",
   "execution_count": 6,
   "metadata": {},
   "outputs": [
    {
     "name": "stderr",
     "output_type": "stream",
     "text": [
      "ERROR:root:an exception message\n",
      "Traceback (most recent call last):\n",
      "  File \"<ipython-input-6-b807375ba42a>\", line 5, in <module>\n",
      "    x = 1 / 0\n",
      "ZeroDivisionError: division by zero\n"
     ]
    },
    {
     "name": "stdout",
     "output_type": "stream",
     "text": [
      "starting\n",
      "Done\n"
     ]
    }
   ],
   "source": [
    "import logging\n",
    "logger = logging.getLogger()\n",
    "try:\n",
    "    print('starting')\n",
    "    x = 1 / 0\n",
    "    print(x)\n",
    "except:\n",
    "    logger.exception('an exception message')\n",
    "print('Done')"
   ]
  },
  {
   "cell_type": "code",
   "execution_count": 7,
   "metadata": {},
   "outputs": [
    {
     "name": "stderr",
     "output_type": "stream",
     "text": [
      "DEBUG:root:This is to help with debugging\n",
      "INFO:root:This is just for information\n",
      "WARNING:root:This is a warning!\n",
      "ERROR:root:This should be used with something unexpected\n",
      "CRITICAL:root:Something serious\n"
     ]
    }
   ],
   "source": [
    "import logging\n",
    "# Set the root logger level\n",
    "logging.basicConfig(level=logging.DEBUG)\n",
    "# Use root (default) logger\n",
    "logging.debug('This is to help with debugging')\n",
    "logging.info('This is just for information')\n",
    "logging.warning('This is a warning!')\n",
    "logging.error('This should be used with something unexpected')\n",
    "logging.critical('Something serious')"
   ]
  },
  {
   "cell_type": "code",
   "execution_count": 8,
   "metadata": {},
   "outputs": [
    {
     "name": "stdout",
     "output_type": "stream",
     "text": [
      "Root logger: <RootLogger root (NOTSET)>\n",
      "Named logger: <Logger my logger (NOTSET)>\n",
      "Module logger: <Logger __main__ (NOTSET)>\n"
     ]
    }
   ],
   "source": [
    "logger = logging.getLogger()\n",
    "print('Root logger:', logger)\n",
    "logger1 = logging.getLogger('my logger')\n",
    "print('Named logger:', logger1)\n",
    "logger2 = logging.getLogger(__name__)\n",
    "print('Module logger:', logger2)"
   ]
  },
  {
   "cell_type": "code",
   "execution_count": 9,
   "metadata": {},
   "outputs": [
    {
     "name": "stderr",
     "output_type": "stream",
     "text": [
      "WARNING:root:count is set to 42\n"
     ]
    }
   ],
   "source": [
    "logger.warning('%s is set to %d', 'count', 42)"
   ]
  },
  {
   "cell_type": "code",
   "execution_count": 1,
   "metadata": {},
   "outputs": [
    {
     "name": "stderr",
     "output_type": "stream",
     "text": [
      "2021-01-24 15:32:30,826 This is to help with debugging\n",
      "2021-01-24 15:32:30,827 This is just for information\n",
      "2021-01-24 15:32:30,828 This is a warning!\n",
      "2021-01-24 15:32:30,829 This should be used with something unexpected\n",
      "2021-01-24 15:32:30,830 Something serious\n"
     ]
    }
   ],
   "source": [
    "import logging\n",
    "\n",
    "logging.basicConfig(format='%(asctime)s %(message)s', level=logging.DEBUG)\n",
    "logger = logging.getLogger(__name__)\n",
    "\n",
    "def do_something():\n",
    "    logger.debug('This is to help with debugging')\n",
    "    logger.info('This is just for information')\n",
    "    logger.warning('This is a warning!')\n",
    "    logger.error('This should be used with something unexpected')\n",
    "    logger.critical('Something serious')\n",
    "    \n",
    "do_something()"
   ]
  },
  {
   "cell_type": "code",
   "execution_count": 1,
   "metadata": {},
   "outputs": [],
   "source": [
    "import pymysql\n",
    "import logging\n",
    "\n",
    "logging.basicConfig(level=logging.DEBUG)\n",
    "logger = logging.getLogger()\n",
    "\n",
    "class Account:\n",
    "    def __init__(self, number,holder, balance, type_account):\n",
    "        self.number = number\n",
    "        self.holder = holder\n",
    "        self.balance = balance\n",
    "        self.type_account = type_account\n",
    "        \n",
    "        # Open database connection\n",
    "        connection = pymysql.connect(host='localhost',\n",
    "                             user='jorge', \n",
    "                             password='qwe123', \n",
    "                             database='testes_python')\n",
    "        \n",
    "        # prepare a cursor object using cursor() method\n",
    "        cursor = connection.cursor()\n",
    "        cursor.execute('SELECT * FROM transactions')\n",
    "        id = cursor.rowcount\n",
    "        print(id)\n",
    "        \n",
    "        logging.info('Conta adicionada')\n",
    "    \n",
    "        try:\n",
    "            print('executou')\n",
    "            # Execute INSERT command\n",
    "            cursor.execute(\"INSERT INTO acc_info (idacc_info, name) VALUES (\"+ str(number) +\", '\" + holder + \"')\")\n",
    "            # Commit the changes to the database\n",
    "            connection.commit()\n",
    "        except:\n",
    "            # Something went wrong\n",
    "            # rollback the changes\n",
    "            connection.rollback()\n",
    "            \n",
    "        try:\n",
    "            print('executou de novo')\n",
    "            # Execute INSERT command\n",
    "            cursor.execute(\"INSERT into transactions (idtransactions, type, amount, account) VALUES (\" + str(id) + \", 'deposit',\" + str(balance) + \",\" + str(number) + \") \")\n",
    "            # Commit the changes to the database\n",
    "            connection.commit()\n",
    "        except:\n",
    "            # Something went wrong\n",
    "            # rollback the changes\n",
    "            connection.rollback()\n",
    "            \n",
    "        # Close the database connection\n",
    "        connection.close()\n",
    "        \n",
    "    def deposit(self, amount, id, tipo):\n",
    "        query = \"INSERT into transactions (idtransactions, type, amount, account) VALUES (\" + str(id) + \", '\"+ tipo +\"',\" + str(amount) + \",\" + str(self.number) + \")\"\n",
    "        self.balance += amount\n",
    "        \n",
    "        return query\n",
    "    \n",
    "    def withdraw(self, amount, id, tipo):\n",
    "        query = \"INSERT into transactions (idtransactions, type, amount, account) VALUES (\" + str(id) + \", '\"+ tipo +\"',\" + str(amount) + \",\" + str(self.number) + \")\"\n",
    "        self.balance -= amount\n",
    "        \n",
    "        return query\n",
    "    \n",
    "    def get_balance(self):\n",
    "        return self.balance"
   ]
  },
  {
   "cell_type": "code",
   "execution_count": 2,
   "metadata": {},
   "outputs": [
    {
     "name": "stderr",
     "output_type": "stream",
     "text": [
      "INFO:root:Conta adicionada\n"
     ]
    },
    {
     "name": "stdout",
     "output_type": "stream",
     "text": [
      "8\n",
      "executou\n",
      "executou de novo\n"
     ]
    }
   ],
   "source": [
    "acc = Account('173', 'Raimundo', 105.05, 'current')"
   ]
  },
  {
   "cell_type": "code",
   "execution_count": 3,
   "metadata": {},
   "outputs": [
    {
     "name": "stderr",
     "output_type": "stream",
     "text": [
      "INFO:root:Depósito realizado!\n"
     ]
    },
    {
     "name": "stdout",
     "output_type": "stream",
     "text": [
      "9\n"
     ]
    }
   ],
   "source": [
    "# Open database connection\n",
    "connection = pymysql.connect(host='localhost',\n",
    "                             user='jorge', \n",
    "                             password='qwe123', \n",
    "                             database='testes_python')\n",
    "        \n",
    "# prepare a cursor object using cursor() method\n",
    "cursor = connection.cursor()\n",
    "cursor.execute('SELECT * FROM transactions')\n",
    "id = cursor.rowcount\n",
    "print(id)\n",
    "    \n",
    "try:\n",
    "    # Execute INSERT command\n",
    "    query = acc.deposit(5.50, id, 'deposit')\n",
    "    logging.info('Depósito realizado!')\n",
    "    cursor.execute(query)\n",
    "    # Commit the changes to the database\n",
    "    connection.commit()\n",
    "except:\n",
    "            # Something went wrong\n",
    "            # rollback the changes\n",
    "    connection.rollback()\n",
    "connection.close()"
   ]
  },
  {
   "cell_type": "code",
   "execution_count": 4,
   "metadata": {},
   "outputs": [
    {
     "name": "stderr",
     "output_type": "stream",
     "text": [
      "INFO:root:Retirada realizada!\n",
      "INFO:root:Retirada realizada!\n"
     ]
    },
    {
     "name": "stdout",
     "output_type": "stream",
     "text": [
      "10\n",
      "executou\n",
      "INSERT into transactions (idtransactions, type, amount, account) VALUES (10, 'retirada',15.5,173)\n"
     ]
    }
   ],
   "source": [
    "# Open database connection\n",
    "connection = pymysql.connect(host='localhost',\n",
    "                             user='jorge', \n",
    "                             password='qwe123', \n",
    "                             database='testes_python')\n",
    "        \n",
    "# prepare a cursor object using cursor() method\n",
    "cursor = connection.cursor()\n",
    "cursor.execute('SELECT * FROM transactions')\n",
    "id = cursor.rowcount\n",
    "print(id)\n",
    "    \n",
    "try:\n",
    "    print('executou')\n",
    "    # Execute INSERT command\n",
    "    query = acc.withdraw(15.50, id, 'retirada')\n",
    "    logging.info('Retirada realizada!')\n",
    "    print(query)\n",
    "    cursor.execute(query)\n",
    "    # Commit the changes to the database\n",
    "    connection.commit()\n",
    "except:\n",
    "            # Something went wrong\n",
    "            # rollback the changes\n",
    "    connection.rollback()\n",
    "connection.close()"
   ]
  },
  {
   "cell_type": "code",
   "execution_count": null,
   "metadata": {},
   "outputs": [],
   "source": []
  }
 ],
 "metadata": {
  "kernelspec": {
   "display_name": "Python 3",
   "language": "python",
   "name": "python3"
  },
  "language_info": {
   "codemirror_mode": {
    "name": "ipython",
    "version": 3
   },
   "file_extension": ".py",
   "mimetype": "text/x-python",
   "name": "python",
   "nbconvert_exporter": "python",
   "pygments_lexer": "ipython3",
   "version": "3.6.9"
  }
 },
 "nbformat": 4,
 "nbformat_minor": 4
}
