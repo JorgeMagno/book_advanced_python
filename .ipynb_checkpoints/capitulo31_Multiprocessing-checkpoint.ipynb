{
 "cells": [
  {
   "cell_type": "code",
   "execution_count": 1,
   "metadata": {},
   "outputs": [
    {
     "name": "stdout",
     "output_type": "stream",
     "text": [
      "Starting\n",
      "ABDone\n",
      "CABCABCABCABCABCBACBACBACBAC"
     ]
    }
   ],
   "source": [
    "from multiprocessing import Process\n",
    "from time import sleep\n",
    "\n",
    "def worker(msg):\n",
    "    for i in range(0, 10):\n",
    "        print(msg, end='', flush=True)\n",
    "        sleep(1)\n",
    "\n",
    "print('Starting')\n",
    "t2 = Process(target=worker, args='A')\n",
    "t3 = Process(target=worker, args='B')\n",
    "t4 = Process(target=worker, args='C')\n",
    "t2.start()\n",
    "t3.start()\n",
    "t4.start()\n",
    "print('Done')"
   ]
  },
  {
   "cell_type": "code",
   "execution_count": 1,
   "metadata": {},
   "outputs": [
    {
     "name": "stdout",
     "output_type": "stream",
     "text": [
      "Starting\n",
      "Root application process id: 13171\n",
      "Done\n"
     ]
    }
   ],
   "source": [
    "from multiprocessing import Process\n",
    "from multiprocessing import set_start_method\n",
    "from time import sleep\n",
    "import os\n",
    "\n",
    "def worker(msg):\n",
    "    print('module name:', __name__)\n",
    "    print('parent process:', os.getppid())\n",
    "    print('process id:', os.getpid())\n",
    "    for i in range(0, 10):\n",
    "        print(msg, end='', flush=True)\n",
    "        sleep(1)\n",
    "\n",
    "def main():\n",
    "    print('Starting')\n",
    "    print('Root application process id:', os.getpid()) \n",
    "    set_start_method('spawn')\n",
    "    t = Process(target=worker, args='A')\n",
    "    t.start()\n",
    "    print('Done')\n",
    "\n",
    "if __name__ == '__main__':\n",
    "    main()"
   ]
  },
  {
   "cell_type": "code",
   "execution_count": 1,
   "metadata": {},
   "outputs": [
    {
     "name": "stdout",
     "output_type": "stream",
     "text": [
      "In worker with:  1\n",
      "In worker with:  0\n",
      "In worker with:  2\n",
      "In worker with:  3\n",
      "In worker with:  5\n",
      "In worker with:  4\n",
      "[0, 1, 4, 9, 16, 25]\n"
     ]
    }
   ],
   "source": [
    "from multiprocessing import Pool\n",
    "\n",
    "def worker(x):\n",
    "    print('In worker with: ', x)\n",
    "    return x * x\n",
    "def main():\n",
    "    with Pool(processes=4) as pool:\n",
    "        print(pool.map(worker, [0, 1, 2, 3, 4, 5]))\n",
    "if __name__ == '__main__':\n",
    "    main()"
   ]
  },
  {
   "cell_type": "code",
   "execution_count": 2,
   "metadata": {},
   "outputs": [
    {
     "name": "stdout",
     "output_type": "stream",
     "text": [
      "In worker with:  1\n",
      "In worker with:  0\n",
      "In worker with:  2\n",
      "In worker with:  3\n",
      "In worker with:  4\n",
      "In worker with:  5\n",
      "0\n",
      "1\n",
      "4\n",
      "25\n",
      "16\n",
      "9\n"
     ]
    }
   ],
   "source": [
    "from multiprocessing import Pool\n",
    "\n",
    "def worker(x):\n",
    "    print('In worker with: ', x)\n",
    "    return x * x\n",
    "def main():\n",
    "    with Pool(processes=4) as pool:\n",
    "        for result in pool.imap_unordered(worker, [0, 1, 2, 3, 4, 5]):\n",
    "            print(result)\n",
    "if __name__ == '__main__':\n",
    "    main()"
   ]
  },
  {
   "cell_type": "code",
   "execution_count": 10,
   "metadata": {},
   "outputs": [
    {
     "name": "stdout",
     "output_type": "stream",
     "text": [
      "In worker with:  6\n",
      "Result from async:  36\n"
     ]
    }
   ],
   "source": [
    "from multiprocessing import Pool\n",
    "\n",
    "def collect_results(result):\n",
    "    print('In collect_results: ', result)\n",
    "\n",
    "def worker(x):\n",
    "    print('In worker with: ', x)\n",
    "    return x * x\n",
    "\n",
    "def main():\n",
    "    with Pool(processes=2) as pool:\n",
    "        # get based example\n",
    "        res = pool.apply_async(worker, [6])\n",
    "        print('Result from async: ', res.get(timeout=1))\n",
    "    with Pool(processes=2) as pool:\n",
    "        # callback based example\n",
    "        pool.apply_async(worker, args=[4], callback=collect_results)\n",
    "\n",
    "if __name__ == '__main__':\n",
    "    main()"
   ]
  },
  {
   "cell_type": "code",
   "execution_count": 5,
   "metadata": {},
   "outputs": [
    {
     "name": "stdout",
     "output_type": "stream",
     "text": [
      "Main - Começou, criado pipe\n",
      "Maim - Configurando o processo\n",
      "Main - Iniciando o processo\n",
      "Worker - Começou agora e dorme por 1 segundo\n",
      "Main - Esperando a resposta do processo filho\n",
      "Worker - envia mensagem via pipe\n",
      "Hello\n",
      "Main - Terminado processo pai e encerrando conexão\n",
      "Main - Done\n",
      "Worker - terminando worker\n"
     ]
    }
   ],
   "source": [
    "from multiprocessing import Process, Pipe\n",
    "from time import sleep\n",
    "\n",
    "def worker(conn):\n",
    "    print('Worker - Começou agora e dorme por 1 segundo')\n",
    "    sleep(1)\n",
    "    print('Worker - envia mensagem via pipe')\n",
    "    conn.send('Hello')\n",
    "    print('Worker - terminando worker')\n",
    "    conn.close()\n",
    "    \n",
    "def main():\n",
    "    print('Main - Começou, criado pipe')\n",
    "    main_connection, worker_connection = Pipe()\n",
    "    print('Maim - Configurando o processo')\n",
    "    p = Process(target=worker, args=[worker_connection])\n",
    "    print('Main - Iniciando o processo')\n",
    "    p.start()\n",
    "    print('Main - Esperando a resposta do processo filho')\n",
    "    print(main_connection.recv())\n",
    "    print('Main - Terminado processo pai e encerrando conexão')\n",
    "    worker_connection.close()\n",
    "    print('Main - Done')\n",
    "    \n",
    "if __name__ == '__main__':\n",
    "    main()"
   ]
  },
  {
   "cell_type": "code",
   "execution_count": 7,
   "metadata": {},
   "outputs": [
    {
     "name": "stdout",
     "output_type": "stream",
     "text": [
      "Starting\n",
      "3.1415927\n",
      "0 -1 -2 -3 -4 -5 -6 -7 -8 -9\n",
      "Done\n"
     ]
    }
   ],
   "source": [
    "from multiprocessing import Process, Value, Array\n",
    "def worker(n, a):\n",
    "    n.value = 3.1415927\n",
    "    for i in range(len(a)):\n",
    "        a[i] = -a[i]\n",
    "def main():\n",
    "    print('Starting')\n",
    "    num = Value('d', 0.0)\n",
    "    arr = Array('i', range(10))\n",
    "    p = Process(target=worker, args=(num, arr))\n",
    "    p.start()\n",
    "    p.join()\n",
    "    print(num.value)\n",
    "    print(*arr)\n",
    "    print('Done')\n",
    "if __name__ == '__main__':\n",
    "    main()"
   ]
  },
  {
   "cell_type": "code",
   "execution_count": 11,
   "metadata": {},
   "outputs": [
    {
     "name": "stdout",
     "output_type": "stream",
     "text": [
      "In worker with:  5\n",
      "In worker with:  10\n",
      "In worker with:  8\n",
      "In worker with:  15\n",
      "In worker with:  3\n",
      "In worker with:  6\n",
      "In worker with:  4\n",
      "120\n",
      "3628800\n",
      "1307674368000\n",
      "6\n",
      "40320\n",
      "720\n",
      "24\n"
     ]
    }
   ],
   "source": [
    "from multiprocessing import Pool\n",
    "\n",
    "def worker(n):\n",
    "    print('In worker with: ', n)\n",
    "    if n < 0:\n",
    "        print('Não há fatorial de negativo.')\n",
    "    else:\n",
    "        fat = 1\n",
    "        i = 2\n",
    "        while i <= n:\n",
    "            fat = fat*i\n",
    "            i = i + 1\n",
    "        return fat\n",
    "\n",
    "def main():\n",
    "    with Pool(processes=4) as pool:\n",
    "        for result in pool.imap_unordered(worker, [5, 8, 10, 15, 3, 6, 4]):\n",
    "            print(result)\n",
    "\n",
    "#-----\n",
    "if __name__ == '__main__':\n",
    "    main()"
   ]
  },
  {
   "cell_type": "code",
   "execution_count": null,
   "metadata": {},
   "outputs": [],
   "source": []
  }
 ],
 "metadata": {
  "kernelspec": {
   "display_name": "Python 3",
   "language": "python",
   "name": "python3"
  },
  "language_info": {
   "codemirror_mode": {
    "name": "ipython",
    "version": 3
   },
   "file_extension": ".py",
   "mimetype": "text/x-python",
   "name": "python",
   "nbconvert_exporter": "python",
   "pygments_lexer": "ipython3",
   "version": "3.6.9"
  }
 },
 "nbformat": 4,
 "nbformat_minor": 4
}
