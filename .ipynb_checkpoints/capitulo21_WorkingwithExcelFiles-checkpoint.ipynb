{
 "cells": [
  {
   "cell_type": "code",
   "execution_count": 2,
   "metadata": {},
   "outputs": [],
   "source": [
    "from openpyxl import Workbook"
   ]
  },
  {
   "cell_type": "code",
   "execution_count": 3,
   "metadata": {},
   "outputs": [],
   "source": [
    "wb = Workbook()"
   ]
  },
  {
   "cell_type": "code",
   "execution_count": 4,
   "metadata": {},
   "outputs": [],
   "source": [
    "ws = wb.active"
   ]
  },
  {
   "cell_type": "code",
   "execution_count": 5,
   "metadata": {},
   "outputs": [],
   "source": [
    "ws = wb.create_sheet('Mysheet')"
   ]
  },
  {
   "cell_type": "code",
   "execution_count": 6,
   "metadata": {},
   "outputs": [],
   "source": [
    "ws.title = 'New Title'"
   ]
  },
  {
   "cell_type": "code",
   "execution_count": 7,
   "metadata": {},
   "outputs": [],
   "source": [
    "ws.sheet_properties.tabColor = \"1072BA\""
   ]
  },
  {
   "cell_type": "code",
   "execution_count": 8,
   "metadata": {},
   "outputs": [],
   "source": [
    "ws['A1'] = 42"
   ]
  },
  {
   "cell_type": "code",
   "execution_count": 10,
   "metadata": {},
   "outputs": [
    {
     "name": "stdout",
     "output_type": "stream",
     "text": [
      "42\n"
     ]
    }
   ],
   "source": [
    "cell = ws['A1']\n",
    "print(cell.value)"
   ]
  },
  {
   "cell_type": "code",
   "execution_count": 11,
   "metadata": {},
   "outputs": [],
   "source": [
    "d = ws.cell(row=4, column=2, value=10)"
   ]
  },
  {
   "cell_type": "code",
   "execution_count": 12,
   "metadata": {},
   "outputs": [],
   "source": [
    "ws.append([1, 2, 3])"
   ]
  },
  {
   "cell_type": "code",
   "execution_count": 13,
   "metadata": {},
   "outputs": [],
   "source": [
    "cell_range = ws['A1':'C2']"
   ]
  },
  {
   "cell_type": "code",
   "execution_count": 14,
   "metadata": {},
   "outputs": [],
   "source": [
    "col = ws['C']\n",
    "col_range = ws['C:D']\n",
    "row10 = ws[10]\n",
    "row_range = ws[5:10]"
   ]
  },
  {
   "cell_type": "code",
   "execution_count": 15,
   "metadata": {},
   "outputs": [],
   "source": [
    "ws['A3'] = '=SUM(A1, A2)'"
   ]
  },
  {
   "cell_type": "code",
   "execution_count": 20,
   "metadata": {},
   "outputs": [
    {
     "name": "stdout",
     "output_type": "stream",
     "text": [
      "Starting Write Excel Example with openPyXL\n",
      "Done Write Excel Example\n"
     ]
    }
   ],
   "source": [
    "from openpyxl import Workbook\n",
    "def main():\n",
    "    print('Starting Write Excel Example with openPyXL')\n",
    "    workbook = Workbook()\n",
    "    # Get the current active worksheet\n",
    "    ws = workbook.active\n",
    "    ws.title = 'my worksheet'\n",
    "    ws.sheet_properties.tabColor = '1072BA'\n",
    "    ws['A1'] = 42\n",
    "    ws['A2'] = 12\n",
    "    ws['A3'] = '=SUM(A1, A2)'\n",
    "    ws2 = workbook.create_sheet(title='my other sheet')\n",
    "    ws2['A1'] = 3.42\n",
    "    ws2.append([1, 2, 3])\n",
    "    ws2.cell(column=2, row=1, value=15)\n",
    "    workbook.save('sample.xlsx')\n",
    "    print('Done Write Excel Example')\n",
    "if __name__ == '__main__':\n",
    "    main()"
   ]
  },
  {
   "cell_type": "code",
   "execution_count": 21,
   "metadata": {},
   "outputs": [],
   "source": [
    "from openpyxl import load_workbook\n",
    "workbook = load_workbook(filename='sample.xlsx')"
   ]
  },
  {
   "cell_type": "code",
   "execution_count": 23,
   "metadata": {},
   "outputs": [
    {
     "name": "stdout",
     "output_type": "stream",
     "text": [
      "Starting reading Excel file using openPyXL\n",
      "<Worksheet \"my worksheet\">\n",
      "['my worksheet', 'my other sheet']\n",
      "[<Worksheet \"my worksheet\">, <Worksheet \"my other sheet\">]\n",
      "----------\n",
      "<Cell 'my worksheet'.A1>\n",
      "42\n",
      "12\n",
      "=SUM(A1, A2)\n",
      "----------\n",
      "my worksheet\n",
      "my other sheet\n",
      "----------\n",
      "42\n",
      "12\n",
      "=SUM(A1, A2)\n",
      "----------\n",
      "Finished reading Excel file using openPyXL\n"
     ]
    }
   ],
   "source": [
    "from openpyxl import load_workbook\n",
    "def main():\n",
    "    print('Starting reading Excel file using openPyXL')\n",
    "    workbook = load_workbook(filename='sample.xlsx')\n",
    "    print(workbook.active)\n",
    "    print(workbook.sheetnames)\n",
    "    print(workbook.worksheets)\n",
    "    print('-' * 10)\n",
    "    ws = workbook['my worksheet']\n",
    "    print(ws['A1'])\n",
    "    print(ws['A1'].value)\n",
    "    print(ws['A2'].value)\n",
    "    print(ws['A3'].value)\n",
    "    print('-' * 10)\n",
    "    for sheet in workbook:\n",
    "        print(sheet.title)\n",
    "    print('-' * 10)\n",
    "    cell_range = ws['A1':'A3']\n",
    "    for cell in cell_range:\n",
    "        print(cell[0].value)\n",
    "    print('-' * 10)\n",
    "    print('Finished reading Excel file using openPyXL')\n",
    "if __name__ == '__main__':\n",
    "    main()"
   ]
  },
  {
   "cell_type": "code",
   "execution_count": 11,
   "metadata": {},
   "outputs": [],
   "source": [
    "from openpyxl import Workbook\n",
    "\n",
    "wb = Workbook()\n",
    "ws = wb.active\n",
    "ws['A1'] = 'Transaction Type'\n",
    "ws['B1'] = 'Amount'\n",
    "wb.save('accounts.xlsx')    "
   ]
  },
  {
   "cell_type": "code",
   "execution_count": 12,
   "metadata": {},
   "outputs": [],
   "source": [
    "from openpyxl import load_workbook\n",
    "\n",
    "class Account:\n",
    "    def __init__(self, number,holder, balance, type_account):\n",
    "        self.number = number\n",
    "        self.holder = holder\n",
    "        self.balance = balance\n",
    "        self.type_account = type_account\n",
    "        \n",
    "        wb = load_workbook(filename='accounts.xlsx')\n",
    "        ws = wb.active\n",
    "        ws.append(['Depósito', balance])\n",
    "        wb.save('accounts.xlsx')\n",
    "        \n",
    "    def deposit(self, amount):\n",
    "        wb = load_workbook(filename='accounts.xlsx')\n",
    "        ws = wb.active\n",
    "        ws.append(['Depósito', amount])\n",
    "        wb.save('accounts.xlsx')\n",
    "        self.balance += amount\n",
    "        return self.balance\n",
    "    \n",
    "    def withdraw(self, amount):\n",
    "        wb = load_workbook(filename='accounts.xlsx')\n",
    "        ws = wb.active\n",
    "        ws.append(['Retirada', amount])\n",
    "        wb.save('accounts.xlsx')\n",
    "        self.balance -= amount\n",
    "        return self.balance\n",
    "    \n",
    "    def get_balance(self):\n",
    "        return self.balance    "
   ]
  },
  {
   "cell_type": "code",
   "execution_count": 13,
   "metadata": {},
   "outputs": [
    {
     "name": "stdout",
     "output_type": "stream",
     "text": [
      "Starting\n",
      "Done\n"
     ]
    }
   ],
   "source": [
    "print('Starting')\n",
    "acc = Account('123', 'John', 10.05, 'current')\n",
    "acc.deposit(23.45)\n",
    "acc.withdraw(12.33)\n",
    "print('Done')"
   ]
  },
  {
   "cell_type": "code",
   "execution_count": null,
   "metadata": {},
   "outputs": [],
   "source": []
  }
 ],
 "metadata": {
  "kernelspec": {
   "display_name": "Python 3",
   "language": "python",
   "name": "python3"
  },
  "language_info": {
   "codemirror_mode": {
    "name": "ipython",
    "version": 3
   },
   "file_extension": ".py",
   "mimetype": "text/x-python",
   "name": "python",
   "nbconvert_exporter": "python",
   "pygments_lexer": "ipython3",
   "version": "3.6.9"
  }
 },
 "nbformat": 4,
 "nbformat_minor": 4
}
