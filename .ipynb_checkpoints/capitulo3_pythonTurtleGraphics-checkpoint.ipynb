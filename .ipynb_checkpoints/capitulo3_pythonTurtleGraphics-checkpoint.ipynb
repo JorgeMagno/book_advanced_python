{
 "cells": [
  {
   "cell_type": "code",
   "execution_count": 1,
   "metadata": {},
   "outputs": [],
   "source": [
    "import turtle"
   ]
  },
  {
   "cell_type": "code",
   "execution_count": 2,
   "metadata": {},
   "outputs": [],
   "source": [
    "# set a title for your canvas window\n",
    "turtle.title('My Turtle Animation')\n",
    "# set up the screen size (in pixels)\n",
    "# set the starting point of the turtle (0, 0)\n",
    "turtle.setup(width=200, height=200, startx=0, starty=0)\n",
    "# sets the pen color to red\n",
    "turtle.pencolor('red')\n",
    "# ...\n",
    "# Add this so that the window will close when clicked on\n",
    "turtle.exitonclick()"
   ]
  },
  {
   "cell_type": "code",
   "execution_count": 4,
   "metadata": {},
   "outputs": [],
   "source": [
    "# Draw a square\n",
    "turtle.forward(50)\n",
    "turtle.right(90)\n",
    "turtle.forward(50)\n",
    "turtle.right(90)\n",
    "turtle.forward(50)\n",
    "turtle.right(90)\n",
    "turtle.forward(50)\n",
    "turtle.right(90)"
   ]
  },
  {
   "cell_type": "code",
   "execution_count": 1,
   "metadata": {},
   "outputs": [],
   "source": [
    "import turtle\n",
    "def setup():\n",
    "    \"\"\" Provide the config for the screen \"\"\"\n",
    "    turtle.title('Multiple Squares Animation')\n",
    "    turtle.setup(100, 100, 0, 0)\n",
    "    turtle.hideturtle()\n",
    "def draw_square(size):\n",
    "    \"\"\" Draw a square in the current direction \"\"\"\n",
    "    turtle.forward(size)\n",
    "    turtle.right(90)\n",
    "    turtle.forward(size)\n",
    "    turtle.right(90)\n",
    "    turtle.forward(size)\n",
    "    turtle.right(90)\n",
    "    turtle.forward(size)\n",
    "setup()\n",
    "for _ in range(0, 12):\n",
    "    draw_square(50)\n",
    "    # Rotate the starting direction\n",
    "    turtle.right(120)\n",
    "# Add this so that the window will close when clicked on\n",
    "turtle.exitonclick()"
   ]
  },
  {
   "cell_type": "code",
   "execution_count": 3,
   "metadata": {},
   "outputs": [],
   "source": [
    "turtle.title('Filled Square Example')\n",
    "turtle.setup(100, 100, 0, 0)\n",
    "turtle.hideturtle()\n",
    "turtle.pencolor('red')\n",
    "turtle.fillcolor('yellow')\n",
    "turtle.begin_fill()\n",
    "draw_square(60)\n",
    "turtle.end_fill()\n",
    "turtle.done()"
   ]
  },
  {
   "cell_type": "code",
   "execution_count": 64,
   "metadata": {},
   "outputs": [],
   "source": [
    "import turtle\n",
    "def hexagono(L, x, y):\n",
    "    '''Desenha um hexagono de lado L.'''\n",
    "    turtle.up()\n",
    "    turtle.goto(x, y)\n",
    "    turtle.down()\n",
    "    turtle.forward(L)\n",
    "    turtle.left(360.0/6)\n",
    "    turtle.forward(L)\n",
    "    turtle.left(360.0/6)\n",
    "    turtle.forward(L)\n",
    "    turtle.left(360.0/6)\n",
    "    turtle.forward(L)\n",
    "    turtle.left(360.0/6)\n",
    "    turtle.forward(L)\n",
    "    turtle.left(360.0/6)\n",
    "    turtle.forward(L)\n",
    "    turtle.left(360.0/6)\n",
    "\n",
    "# Testando\n",
    "hexagono(100, 0, 0)\n",
    "hexagono(100, 0, 172)\n",
    "hexagono(100, 0, -172)\n",
    "hexagono(100, 150, 88)\n",
    "hexagono(100, 150, -88)\n",
    "hexagono(100, -150, 88)\n",
    "hexagono(100, -150, -88)\n",
    "\n",
    "\n",
    "\n",
    "turtle.exitonclick()"
   ]
  },
  {
   "cell_type": "code",
   "execution_count": 13,
   "metadata": {},
   "outputs": [],
   "source": []
  },
  {
   "cell_type": "code",
   "execution_count": null,
   "metadata": {},
   "outputs": [],
   "source": []
  }
 ],
 "metadata": {
  "kernelspec": {
   "display_name": "Python 3",
   "language": "python",
   "name": "python3"
  },
  "language_info": {
   "codemirror_mode": {
    "name": "ipython",
    "version": 3
   },
   "file_extension": ".py",
   "mimetype": "text/x-python",
   "name": "python",
   "nbconvert_exporter": "python",
   "pygments_lexer": "ipython3",
   "version": "3.6.9"
  }
 },
 "nbformat": 4,
 "nbformat_minor": 4
}
