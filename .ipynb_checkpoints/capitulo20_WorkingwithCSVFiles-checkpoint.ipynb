{
 "cells": [
  {
   "cell_type": "code",
   "execution_count": 2,
   "metadata": {},
   "outputs": [
    {
     "name": "stdout",
     "output_type": "stream",
     "text": [
      "Crearting CSV file\n"
     ]
    }
   ],
   "source": [
    "import csv\n",
    "\n",
    "print('Crearting CSV file')\n",
    "with open('sample.csv', 'w', newline='') as csvfile:\n",
    "    writer = csv.writer(csvfile)\n",
    "    writer.writerow(['She Loves You', 'Sept 1963'])\n",
    "    writer.writerow(['I Want to Hold Your Hand', 'Dec 1963'])\n",
    "    writer.writerow(['Cant Buy Me Love', 'Apr 1964'])\n",
    "    writer.writerow(['A Hard Days Night', 'July 1964'])"
   ]
  },
  {
   "cell_type": "code",
   "execution_count": 3,
   "metadata": {},
   "outputs": [
    {
     "name": "stdout",
     "output_type": "stream",
     "text": [
      "Starting to read csv file\n",
      "She Loves You, Sept 1963\n",
      "I Want to Hold Your Hand, Dec 1963\n",
      "Cant Buy Me Love, Apr 1964\n",
      "A Hard Days Night, July 1964\n",
      "Done Reading\n"
     ]
    }
   ],
   "source": [
    "print('Starting to read csv file')\n",
    "with open('sample.csv', newline='') as csvfile:\n",
    "    reader = csv.reader(csvfile)\n",
    "    for row in reader:\n",
    "        print(*row, sep=', ')\n",
    "print('Done Reading')"
   ]
  },
  {
   "cell_type": "code",
   "execution_count": 4,
   "metadata": {},
   "outputs": [],
   "source": [
    "import csv\n",
    "with open('names.csv', 'w', newline='') as csvfile:\n",
    "    fieldnames = ['first_name', 'last_name', 'result']\n",
    "    writer = csv.DictWriter(csvfile, fieldnames=fieldnames)\n",
    "    writer.writeheader()\n",
    "    writer.writerow({'first_name': 'John', 'last_name': 'Smith', 'result' : 54})\n",
    "    writer.writerow({'first_name': 'Jane', 'last_name': 'Lewis', 'result': 63})\n",
    "    writer.writerow({'first_name': 'Chris', 'last_name': 'Davies', 'result' : 72})"
   ]
  },
  {
   "cell_type": "code",
   "execution_count": 5,
   "metadata": {},
   "outputs": [
    {
     "name": "stdout",
     "output_type": "stream",
     "text": [
      "Starting to read dict CSV example\n",
      "first_name last_name result \n",
      "------------------------------\n",
      "John Smith 54\n",
      "Jane Lewis 63\n",
      "Chris Davies 72\n",
      "Done\n"
     ]
    }
   ],
   "source": [
    "import csv\n",
    "print('Starting to read dict CSV example')\n",
    "with open('names.csv', newline='') as csvfile:\n",
    "    reader = csv.DictReader(csvfile)\n",
    "    for heading in reader.fieldnames:\n",
    "        print(heading, end=' ')\n",
    "    print('\\n------------------------------')\n",
    "    for row in reader:\n",
    "        print(row['first_name'], row['last_name'], row['result'])\n",
    "print('Done')"
   ]
  },
  {
   "cell_type": "code",
   "execution_count": 43,
   "metadata": {},
   "outputs": [],
   "source": [
    "import csv\n",
    "import os.path\n",
    " \n",
    "class Account:\n",
    "    def __init__(self, number,holder, balance, type_account):\n",
    "        self.number = number\n",
    "        self.holder = holder\n",
    "        self.balance = balance\n",
    "        self.type_account = type_account\n",
    "    def deposit(self, amount):\n",
    "        fieldnames = ['Tipo de Transação', 'valor']\n",
    "        if os.path.exists('/home/jorge/jupyter/pythonAdvanced/transa.csv') == False:\n",
    "            with open(r'transa.csv', 'a', newline='') as csvfile:\n",
    "                writer = csv.DictWriter(csvfile, fieldnames=fieldnames)\n",
    "                writer.writeheader()\n",
    "                writer.writerow({'Tipo de Transação': 'Depósito', 'valor': amount})\n",
    "        else:\n",
    "            with open(r'transa.csv', 'a', newline='') as csvfile:\n",
    "                writer = csv.DictWriter(csvfile, fieldnames=fieldnames)\n",
    "                writer.writerow({'Tipo de Transação': 'Depósito', 'valor': amount})\n",
    "        self.balance += amount\n",
    "        return self.balance\n",
    "    def withdraw(self, amount):\n",
    "        fieldnames = ['Tipo de Transação', 'valor']\n",
    "        if os.path.exists('/home/jorge/jupyter/pythonAdvanced/transa.csv') == False:\n",
    "            with open(r'transa.csv', 'a', newline='') as csvfile:\n",
    "                writer = csv.DictWriter(csvfile, fieldnames=fieldnames)\n",
    "                writer.writeheader()\n",
    "                writer.writerow({'Tipo de Transação': 'Retirada', 'valor': amount})\n",
    "        else:\n",
    "            with open(r'transa.csv', 'a', newline='') as csvfile:\n",
    "                writer = csv.DictWriter(csvfile, fieldnames=fieldnames)\n",
    "                writer.writerow({'Tipo de Transação': 'Retirada', 'valor': amount})\n",
    "        self.balance -= amount\n",
    "        return self.balance\n",
    "    def get_balance(self):\n",
    "        return self.balance"
   ]
  },
  {
   "cell_type": "code",
   "execution_count": 44,
   "metadata": {},
   "outputs": [],
   "source": [
    "acc1 = Account('123', 'John', 10.05, 'current')"
   ]
  },
  {
   "cell_type": "code",
   "execution_count": 45,
   "metadata": {},
   "outputs": [
    {
     "data": {
      "text/plain": [
       "33.5"
      ]
     },
     "execution_count": 45,
     "metadata": {},
     "output_type": "execute_result"
    }
   ],
   "source": [
    "acc1.deposit(23.45)"
   ]
  },
  {
   "cell_type": "code",
   "execution_count": 46,
   "metadata": {},
   "outputs": [
    {
     "data": {
      "text/plain": [
       "21.17"
      ]
     },
     "execution_count": 46,
     "metadata": {},
     "output_type": "execute_result"
    }
   ],
   "source": [
    "acc1.withdraw(12.33)"
   ]
  },
  {
   "cell_type": "code",
   "execution_count": null,
   "metadata": {},
   "outputs": [],
   "source": []
  }
 ],
 "metadata": {
  "kernelspec": {
   "display_name": "Python 3",
   "language": "python",
   "name": "python3"
  },
  "language_info": {
   "codemirror_mode": {
    "name": "ipython",
    "version": 3
   },
   "file_extension": ".py",
   "mimetype": "text/x-python",
   "name": "python",
   "nbconvert_exporter": "python",
   "pygments_lexer": "ipython3",
   "version": "3.6.9"
  }
 },
 "nbformat": 4,
 "nbformat_minor": 4
}
