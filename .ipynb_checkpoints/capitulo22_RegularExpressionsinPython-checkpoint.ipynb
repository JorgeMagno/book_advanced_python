{
 "cells": [
  {
   "cell_type": "code",
   "execution_count": 1,
   "metadata": {},
   "outputs": [
    {
     "name": "stdout",
     "output_type": "stream",
     "text": [
      "Hello \n",
      " world\n"
     ]
    }
   ],
   "source": [
    "s = 'Hello \\n world'\n",
    "print(s)"
   ]
  },
  {
   "cell_type": "code",
   "execution_count": 2,
   "metadata": {},
   "outputs": [
    {
     "name": "stdout",
     "output_type": "stream",
     "text": [
      "Hello \\n world\n"
     ]
    }
   ],
   "source": [
    "s = r'Hello \\n world'\n",
    "print(s)"
   ]
  },
  {
   "cell_type": "code",
   "execution_count": 3,
   "metadata": {},
   "outputs": [
    {
     "name": "stdout",
     "output_type": "stream",
     "text": [
      "looking in john williams for the pattern [Jj]ohn\n",
      "Match has been found\n"
     ]
    }
   ],
   "source": [
    "import re\n",
    "\n",
    "text1 = 'john williams'\n",
    "pattern = '[Jj]ohn'\n",
    "print('looking in', text1, 'for the pattern', pattern)\n",
    "if re.search(pattern, text1):\n",
    "    print('Match has been found')"
   ]
  },
  {
   "cell_type": "code",
   "execution_count": 7,
   "metadata": {},
   "outputs": [
    {
     "name": "stdout",
     "output_type": "stream",
     "text": [
      "Line 1 contains an integer\n"
     ]
    }
   ],
   "source": [
    "import re\n",
    "line1 = 'The price is 23.55'\n",
    "containsIntegers = r'\\d+'\n",
    "if re.search(containsIntegers, line1):\n",
    "    print('Line 1 contains an integer')\n",
    "else:\n",
    "    print('Line 1 does not contain an integer')"
   ]
  },
  {
   "cell_type": "code",
   "execution_count": 8,
   "metadata": {},
   "outputs": [
    {
     "name": "stdout",
     "output_type": "stream",
     "text": [
      "Set Fire to the Rain\n"
     ]
    }
   ],
   "source": [
    "import re\n",
    "# Alternative words\n",
    "music = r'Beatles|Adele|Gorillaz'\n",
    "request = 'Play some Adele'\n",
    "if re.search(music, request):\n",
    "    print('Set Fire to the Rain')\n",
    "else:\n",
    "    print('No Adele Available')\n"
   ]
  },
  {
   "cell_type": "code",
   "execution_count": 9,
   "metadata": {},
   "outputs": [
    {
     "name": "stdout",
     "output_type": "stream",
     "text": [
      "['Spain', 'plain']\n",
      "Spain\n",
      "plain\n"
     ]
    }
   ],
   "source": [
    "import re\n",
    "str = 'The rain in Spain stays mainly on the plain'\n",
    "results = re.findall('[a-zA-Z]{2}ai.', str)\n",
    "print(results)\n",
    "for s in results:\n",
    "    print(s)"
   ]
  },
  {
   "cell_type": "code",
   "execution_count": 10,
   "metadata": {},
   "outputs": [
    {
     "name": "stdout",
     "output_type": "stream",
     "text": [
      "['It', 'was', 'a', 'hot', 'summer', 'night']\n"
     ]
    }
   ],
   "source": [
    "import re\n",
    "str = 'It was a hot summer night'\n",
    "x = re.split('\\s', str)\n",
    "print(x)"
   ]
  },
  {
   "cell_type": "code",
   "execution_count": 11,
   "metadata": {},
   "outputs": [
    {
     "name": "stdout",
     "output_type": "stream",
     "text": [
      "England for football, England for Rugby and England for the Highland games\n"
     ]
    }
   ],
   "source": [
    "import re\n",
    "pattern = '(England|Wales|Scotland)'\n",
    "input = 'England for football, Wales for Rugby and Scotland for the Highland games'\n",
    "print(re.sub(pattern, 'England', input ))"
   ]
  },
  {
   "cell_type": "code",
   "execution_count": 12,
   "metadata": {},
   "outputs": [
    {
     "name": "stdout",
     "output_type": "stream",
     "text": [
      "Wales for football, Wales for Rugby and Scotland for the Highland games\n"
     ]
    }
   ],
   "source": [
    "import re\n",
    "pattern = '(England|Wales|Scotland)'\n",
    "input = 'England for football, Wales for Rugby and Scotland for the Highland games'\n",
    "x = re.sub(pattern, 'Wales', input, 2)\n",
    "print(x)"
   ]
  },
  {
   "cell_type": "code",
   "execution_count": 13,
   "metadata": {},
   "outputs": [
    {
     "name": "stdout",
     "output_type": "stream",
     "text": [
      "('Scotland for football, Scotland for Rugby and Scotland for the Highland games', 3)\n"
     ]
    }
   ],
   "source": [
    "import re\n",
    "pattern = '(England|Wales|Scotland)'\n",
    "input = 'England for football, Wales for Rugby and Scotland for the Highland games'\n",
    "print(re.subn(pattern,'Scotland', input ))"
   ]
  },
  {
   "cell_type": "code",
   "execution_count": 14,
   "metadata": {},
   "outputs": [
    {
     "name": "stdout",
     "output_type": "stream",
     "text": [
      "Line 1 contains a number\n"
     ]
    }
   ],
   "source": [
    "import re\n",
    "line1 = 'The price is 23.55'\n",
    "containsIntegers = r'\\d+'\n",
    "rePattern = re.compile(containsIntegers)\n",
    "matchLine1 = rePattern.search(line1)\n",
    "if matchLine1:\n",
    "    print('Line 1 contains a number')\n",
    "else:\n",
    "    print('Line 1 does not contain a number')"
   ]
  },
  {
   "cell_type": "code",
   "execution_count": 15,
   "metadata": {},
   "outputs": [
    {
     "name": "stdout",
     "output_type": "stream",
     "text": [
      "['20', 'High', 'Street']\n"
     ]
    }
   ],
   "source": [
    "p = re.compile(r'\\W+')\n",
    "s = '20 High Street'\n",
    "print(p.split(s))"
   ]
  },
  {
   "cell_type": "code",
   "execution_count": 15,
   "metadata": {},
   "outputs": [],
   "source": [
    "import re\n",
    "\n",
    "def contains_only_characters_and_numbers(string):\n",
    "    contains = r'\\W|_'\n",
    "    if re.search(contains, string):\n",
    "        return False\n",
    "    else:\n",
    "        return True"
   ]
  },
  {
   "cell_type": "code",
   "execution_count": 16,
   "metadata": {},
   "outputs": [
    {
     "name": "stdout",
     "output_type": "stream",
     "text": [
      "True\n",
      "False\n",
      "True\n",
      "True\n",
      "False\n"
     ]
    }
   ],
   "source": [
    "print(contains_only_characters_and_numbers('John')) # True\n",
    "print(contains_only_characters_and_numbers('John_Hunt')) #False\n",
    "print(contains_only_characters_and_numbers('42')) # True\n",
    "print(contains_only_characters_and_numbers('John42')) # True\n",
    "print(contains_only_characters_and_numbers('John 42')) # False"
   ]
  },
  {
   "cell_type": "code",
   "execution_count": 17,
   "metadata": {},
   "outputs": [],
   "source": [
    "import re\n",
    "\n",
    "def verify_postcode(string):\n",
    "    pattern = '[A-Z]{2}[0-9]{1,2}[ ]{1}[0-9]{1,2}[A-Z]{2}'\n",
    "    if re.search(pattern, string):\n",
    "        return True\n",
    "    else:\n",
    "        return False"
   ]
  },
  {
   "cell_type": "code",
   "execution_count": 18,
   "metadata": {},
   "outputs": [
    {
     "name": "stdout",
     "output_type": "stream",
     "text": [
      "verify_postcode('SY23 3AA'): True\n",
      "verify_postcode('SY23 4ZZ'): True\n",
      "verify_postcode('BB1 3PO'): True\n",
      "verify_postcode('AA111 NN56'): False\n",
      "verify_postcode('AA1 56NN'): True\n",
      "verify_postcode('AA156NN'): False\n",
      "verify_postcode('AA NN'): False\n"
     ]
    }
   ],
   "source": [
    "# True\n",
    "print(\"verify_postcode('SY23 3AA'):\", verify_postcode('SY23 33AA'))\n",
    "# True\n",
    "print(\"verify_postcode('SY23 4ZZ'):\", verify_postcode('SY23 4ZZ'))\n",
    "# True\n",
    "print(\"verify_postcode('BB1 3PO'):\", verify_postcode('BB1 3PO'))\n",
    "# False\n",
    "print(\"verify_postcode('AA111 NN56'):\", verify_postcode('AA111 NN56'))\n",
    "# True\n",
    "print(\"verify_postcode('AA1 56NN'):\", verify_postcode('AA1 56NN'))\n",
    "# False\n",
    "print(\"verify_postcode('AA156NN'):\", verify_postcode('AA156NN'))\n",
    "# False\n",
    "print(\"verify_postcode('AA NN'):\", verify_postcode('AA NN'))"
   ]
  },
  {
   "cell_type": "code",
   "execution_count": 86,
   "metadata": {},
   "outputs": [],
   "source": [
    "import re\n",
    "\n",
    "def extract_values(init, end, string):\n",
    "    p = r''+ init + '(.*?)' + end +'' \n",
    "    result = re.findall(p, string)\n",
    "    return result"
   ]
  },
  {
   "cell_type": "code",
   "execution_count": 87,
   "metadata": {},
   "outputs": [
    {
     "name": "stdout",
     "output_type": "stream",
     "text": [
      "['John']\n",
      "['42']\n",
      "['John 42']\n",
      "['town', 'valley']\n"
     ]
    }
   ],
   "source": [
    "print(extract_values('<', '>', '<John>'))\n",
    "print(extract_values('<', '>', '<42>'))\n",
    "print(extract_values('<', '>', '<John 42>'))\n",
    "print(extract_values('<', '>', 'The <town> was in the <valley>'))"
   ]
  },
  {
   "cell_type": "code",
   "execution_count": null,
   "metadata": {},
   "outputs": [],
   "source": []
  }
 ],
 "metadata": {
  "kernelspec": {
   "display_name": "Python 3",
   "language": "python",
   "name": "python3"
  },
  "language_info": {
   "codemirror_mode": {
    "name": "ipython",
    "version": 3
   },
   "file_extension": ".py",
   "mimetype": "text/x-python",
   "name": "python",
   "nbconvert_exporter": "python",
   "pygments_lexer": "ipython3",
   "version": "3.6.9"
  }
 },
 "nbformat": 4,
 "nbformat_minor": 4
}
