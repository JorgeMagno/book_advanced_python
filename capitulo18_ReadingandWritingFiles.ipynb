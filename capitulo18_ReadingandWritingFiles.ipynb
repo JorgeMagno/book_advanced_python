{
 "cells": [
  {
   "cell_type": "code",
   "execution_count": 2,
   "metadata": {},
   "outputs": [
    {
     "name": "stdout",
     "output_type": "stream",
     "text": [
      "file.name: myfile.txt\n",
      "file.closed: False\n",
      "file.mode: r+\n",
      "file.closed now: True\n"
     ]
    }
   ],
   "source": [
    "file = open('myfile.txt', 'r+')\n",
    "print('file.name:', file.name)\n",
    "print('file.closed:', file.closed)\n",
    "print('file.mode:', file.mode)\n",
    "file.close()\n",
    "print('file.closed now:', file.closed)"
   ]
  },
  {
   "cell_type": "code",
   "execution_count": 3,
   "metadata": {},
   "outputs": [
    {
     "name": "stdout",
     "output_type": "stream",
     "text": [
      "Note that once you have read some text from a file using one of the above\n",
      "operations then that line is not read again. Thus using readlines() would result\n",
      "in a further readlines() returning an empty list whatever the contents of the file.\n",
      "The following illustrates using the readlines() method to read all the text in\n",
      "a text file into a program and then print each line out in turn:"
     ]
    }
   ],
   "source": [
    "file = open('myfile.txt', 'r')\n",
    "lines = file.readlines()\n",
    "for line in lines:\n",
    "    print(line, end='')\n",
    "file.close()"
   ]
  },
  {
   "cell_type": "code",
   "execution_count": 4,
   "metadata": {},
   "outputs": [
    {
     "name": "stdout",
     "output_type": "stream",
     "text": [
      "Note that once you have read some text from a file using one of the above\n",
      "operations then that line is not read again. Thus using readlines() would result\n",
      "in a further readlines() returning an empty list whatever the contents of the file.\n",
      "The following illustrates using the readlines() method to read all the text in\n",
      "a text file into a program and then print each line out in turn:"
     ]
    }
   ],
   "source": [
    "file = open('myfile.txt', 'r')\n",
    "for line in file:\n",
    "    print(line, end='')\n",
    "file.close()"
   ]
  },
  {
   "cell_type": "code",
   "execution_count": 5,
   "metadata": {},
   "outputs": [
    {
     "name": "stdout",
     "output_type": "stream",
     "text": [
      "['NOTE THAT ONCE YOU HAVE READ SOME TEXT FROM A FILE USING ONE OF THE ABOVE\\n', 'OPERATIONS THEN THAT LINE IS NOT READ AGAIN. THUS USING READLINES() WOULD RESULT\\n', 'IN A FURTHER READLINES() RETURNING AN EMPTY LIST WHATEVER THE CONTENTS OF THE FILE.\\n', 'THE FOLLOWING ILLUSTRATES USING THE READLINES() METHOD TO READ ALL THE TEXT IN\\n', 'A TEXT FILE INTO A PROGRAM AND THEN PRINT EACH LINE OUT IN TURN:']\n"
     ]
    }
   ],
   "source": [
    "file = open('myfile.txt', 'r')\n",
    "lines = [line.upper() for line in file]\n",
    "file.close()\n",
    "print(lines)"
   ]
  },
  {
   "cell_type": "code",
   "execution_count": 6,
   "metadata": {},
   "outputs": [
    {
     "name": "stdout",
     "output_type": "stream",
     "text": [
      "Writing file\n"
     ]
    }
   ],
   "source": [
    "print('Writing file')\n",
    "f = open('my-new-file.txt', 'w')\n",
    "f.write('Hello from Python!!\\n')\n",
    "f.write('Working with files is easy...\\n')\n",
    "f.write('It is cool ...\\n')\n",
    "f.close()"
   ]
  },
  {
   "cell_type": "code",
   "execution_count": 4,
   "metadata": {},
   "outputs": [
    {
     "name": "stdout",
     "output_type": "stream",
     "text": [
      "Note that once you have read some text from a file using one of the above\n",
      "operations then that line is not read again. Thus using readlines() would result\n",
      "in a further readlines() returning an empty list whatever the contents of the file.\n",
      "The following illustrates using the readlines() method to read all the text in\n",
      "a text file into a program and then print each line out in turn:"
     ]
    }
   ],
   "source": [
    "with open('myfile.txt', 'r') as file:\n",
    "    lines = file.readlines()\n",
    "    for line in lines:\n",
    "        print(line, end='')"
   ]
  },
  {
   "cell_type": "code",
   "execution_count": 2,
   "metadata": {},
   "outputs": [
    {
     "name": "stdout",
     "output_type": "stream",
     "text": [
      "spam\n",
      "\n",
      "spam\n",
      "\n",
      "spam\n",
      "egg\n",
      "\n",
      "egg\n",
      "\n",
      "egg\n",
      "\n",
      "egg\n"
     ]
    }
   ],
   "source": [
    "import fileinput\n",
    "with fileinput.input(files=('spam.txt', 'eggs.txt')) as f:\n",
    "    for line in f:\n",
    "        print(line)"
   ]
  },
  {
   "cell_type": "code",
   "execution_count": 4,
   "metadata": {},
   "outputs": [
    {
     "name": "stdout",
     "output_type": "stream",
     "text": [
      "f.filename(): spam.txt\n",
      "f.isfirstline(): True\n",
      "f.lineno(): 1\n",
      "f.filelineno(): 1\n",
      "spam\n",
      "spamegg\n",
      "egg\n",
      "egg\n",
      "egg"
     ]
    }
   ],
   "source": [
    "with fileinput.input(files=('spam.txt', 'eggs.txt')) as f:\n",
    "    line = f.readline()\n",
    "    print('f.filename():', f.filename())\n",
    "    print('f.isfirstline():', f.isfirstline())\n",
    "    print('f.lineno():', f.lineno())\n",
    "    print('f.filelineno():', f.filelineno())\n",
    "    for line in f:\n",
    "        print(line, end='')"
   ]
  },
  {
   "cell_type": "code",
   "execution_count": 5,
   "metadata": {},
   "outputs": [],
   "source": [
    "import os\n",
    "os.rename('eggs.txt',' egg.txt')"
   ]
  },
  {
   "cell_type": "code",
   "execution_count": 6,
   "metadata": {},
   "outputs": [],
   "source": [
    "import os\n",
    "os.remove('spam.txt')"
   ]
  },
  {
   "cell_type": "code",
   "execution_count": 7,
   "metadata": {},
   "outputs": [
    {
     "name": "stdout",
     "output_type": "stream",
     "text": [
      "abcdefBOOjHELLOpqrstuvwxyz\n"
     ]
    }
   ],
   "source": [
    "f = open('text.txt', 'w')\n",
    "f.write('abcdefghijklmnopqrstuvwxyz\\n')\n",
    "f.seek(10,0)\n",
    "f.write('HELLO')\n",
    "f.seek(6, 0)\n",
    "f.write ('BOO')\n",
    "f.close()\n",
    "with open('text.txt', 'r') as f:\n",
    "    for line in f:\n",
    "        print(line, end='')"
   ]
  },
  {
   "cell_type": "code",
   "execution_count": 8,
   "metadata": {},
   "outputs": [
    {
     "name": "stdout",
     "output_type": "stream",
     "text": [
      "os.getcwd(: /home/jorge/jupyter/pythonAdvanced\n",
      "List contents of directory\n",
      "['capitulo18_ReadingandWritingFiles.ipynb', '.ipynb_checkpoints', ' egg.txt', 'capitulo9_EventsinwxPythonUserInterfaces.ipynb', '__pycache__', 'capitulo6_GraphingwithMatplotlibpyplot.ipynb', 'capitulo8_ThewxPythonGUILibrary.ipynb', 'myfile.txt', 'capitulo15_PyTestTestingFramework.ipynb', 'capitulo5_IntroductiontoMatplotlib.ipynb', 'capitulo4ComputerGeneratedArt.ipynb', 'text.txt', 'capitulo13_StarshipMeteorspygame.ipynb', 'capitulo10_PyDrawwxPythonExampleApplication.ipynb', 'capitulo12_BuildingGameswithpygame.ipynb', 'capitulo3_pythonTurtleGraphics.ipynb', 'my-new-file.txt', 'calculator.py']\n",
      "Create mydir\n",
      "List the updated contents of directory\n",
      "['capitulo18_ReadingandWritingFiles.ipynb', '.ipynb_checkpoints', ' egg.txt', 'capitulo9_EventsinwxPythonUserInterfaces.ipynb', '__pycache__', 'capitulo6_GraphingwithMatplotlibpyplot.ipynb', 'capitulo8_ThewxPythonGUILibrary.ipynb', 'mydir', 'myfile.txt', 'capitulo15_PyTestTestingFramework.ipynb', 'capitulo5_IntroductiontoMatplotlib.ipynb', 'capitulo4ComputerGeneratedArt.ipynb', 'text.txt', 'capitulo13_StarshipMeteorspygame.ipynb', 'capitulo10_PyDrawwxPythonExampleApplication.ipynb', 'capitulo12_BuildingGameswithpygame.ipynb', 'capitulo3_pythonTurtleGraphics.ipynb', 'my-new-file.txt', 'calculator.py']\n",
      "Change into mydir directory\n",
      "os.getcwd(: /home/jorge/jupyter/pythonAdvanced/mydir\n",
      "Change back to parent directory\n",
      "os.getcwd(: /home/jorge/jupyter/pythonAdvanced\n",
      "Remove mydir directory\n",
      "List the resulting contents of directory\n",
      "['capitulo18_ReadingandWritingFiles.ipynb', '.ipynb_checkpoints', ' egg.txt', 'capitulo9_EventsinwxPythonUserInterfaces.ipynb', '__pycache__', 'capitulo6_GraphingwithMatplotlibpyplot.ipynb', 'capitulo8_ThewxPythonGUILibrary.ipynb', 'myfile.txt', 'capitulo15_PyTestTestingFramework.ipynb', 'capitulo5_IntroductiontoMatplotlib.ipynb', 'capitulo4ComputerGeneratedArt.ipynb', 'text.txt', 'capitulo13_StarshipMeteorspygame.ipynb', 'capitulo10_PyDrawwxPythonExampleApplication.ipynb', 'capitulo12_BuildingGameswithpygame.ipynb', 'capitulo3_pythonTurtleGraphics.ipynb', 'my-new-file.txt', 'calculator.py']\n"
     ]
    }
   ],
   "source": [
    "import os\n",
    "print('os.getcwd(:', os.getcwd())\n",
    "print('List contents of directory')\n",
    "print(os.listdir())\n",
    "print('Create mydir')\n",
    "os.mkdir('mydir')\n",
    "print('List the updated contents of directory')\n",
    "print(os.listdir())\n",
    "print('Change into mydir directory')\n",
    "os.chdir('mydir')\n",
    "print('os.getcwd(:', os.getcwd())\n",
    "print('Change back to parent directory')\n",
    "os.chdir('..')\n",
    "print('os.getcwd(:', os.getcwd())\n",
    "print('Remove mydir directory')\n",
    "os.rmdir('mydir')\n",
    "print('List the resulting contents of directory')\n",
    "print(os.listdir())"
   ]
  },
  {
   "cell_type": "code",
   "execution_count": 9,
   "metadata": {},
   "outputs": [
    {
     "name": "stdout",
     "output_type": "stream",
     "text": [
      "tempfile.gettempdir(): /tmp\n",
      "temp.name: 60\n",
      "temp.mode: w+\n",
      "line: Hello world!\n"
     ]
    }
   ],
   "source": [
    "import tempfile\n",
    "print('tempfile.gettempdir():', tempfile.gettempdir())\n",
    "temp = tempfile.TemporaryFile('w+')\n",
    "print('temp.name:', temp.name)\n",
    "print('temp.mode:', temp.mode)\n",
    "temp.write('Hello world!')\n",
    "temp.seek(0)\n",
    "line = temp.readline()\n",
    "print('line:', line)"
   ]
  },
  {
   "cell_type": "code",
   "execution_count": 11,
   "metadata": {},
   "outputs": [
    {
     "name": "stdout",
     "output_type": "stream",
     "text": [
      "Create Path object for current directory\n",
      "p: .\n",
      "p.exists(): True\n",
      "p.is_dir(): True\n",
      "p.is_file(): False\n",
      "p.absolute(): /home/jorge/jupyter/pythonAdvanced\n"
     ]
    }
   ],
   "source": [
    "from pathlib import Path\n",
    "print('Create Path object for current directory')\n",
    "p = Path('.')\n",
    "print('p:', p)\n",
    "print('p.exists():', p.exists())\n",
    "print('p.is_dir():', p.is_dir())\n",
    "print('p.is_file():', p.is_file())\n",
    "print('p.absolute():', p.absolute())"
   ]
  },
  {
   "cell_type": "code",
   "execution_count": 14,
   "metadata": {},
   "outputs": [
    {
     "name": "stdout",
     "output_type": "stream",
     "text": [
      "Set up new directory\n",
      "Check to see if newdir exists\n",
      "newdir.exists(): False\n",
      "Create new dir\n",
      "newdir.exists(): True\n"
     ]
    }
   ],
   "source": [
    "p = Path.cwd()\n",
    "print('Set up new directory')\n",
    "newdir = p / 'test'\n",
    "print('Check to see if newdir exists')\n",
    "print('newdir.exists():', newdir.exists())\n",
    "print('Create new dir')\n",
    "newdir.mkdir()\n",
    "print('newdir.exists():', newdir.exists())"
   ]
  },
  {
   "cell_type": "code",
   "execution_count": 13,
   "metadata": {},
   "outputs": [
    {
     "name": "stdout",
     "output_type": "stream",
     "text": [
      "----------\n",
      "file: /home/jorge/jupyter/pythonAdvanced/ egg.txt\n",
      "file: /home/jorge/jupyter/pythonAdvanced/myfile.txt\n",
      "file: /home/jorge/jupyter/pythonAdvanced/text.txt\n",
      "file: /home/jorge/jupyter/pythonAdvanced/my-new-file.txt\n",
      "----------\n"
     ]
    }
   ],
   "source": [
    "print('-' * 10)\n",
    "for file in p.glob('*.txt'):\n",
    "    print('file:', file)\n",
    "print('-' * 10)"
   ]
  },
  {
   "cell_type": "code",
   "execution_count": 16,
   "metadata": {},
   "outputs": [
    {
     "name": "stdout",
     "output_type": "stream",
     "text": [
      "Note that once you have read some text from a file using one of the above\n",
      "\n"
     ]
    }
   ],
   "source": [
    "p = Path('myfile.txt')\n",
    "with p.open() as f:\n",
    "    print(f.readline())"
   ]
  },
  {
   "cell_type": "code",
   "execution_count": 17,
   "metadata": {},
   "outputs": [
    {
     "name": "stdout",
     "output_type": "stream",
     "text": [
      "Create new file\n",
      "Write some text to file\n",
      "Read the text back again\n",
      "Hello Python World!\n",
      "Remove the file\n"
     ]
    }
   ],
   "source": [
    "dir = Path('./test')\n",
    "print('Create new file')\n",
    "newfile = dir / 'text.txt'\n",
    "print('Write some text to file')\n",
    "newfile.write_text('Hello Python World!')\n",
    "print('Read the text back again')\n",
    "print(newfile.read_text())\n",
    "print('Remove the file')\n",
    "newfile.unlink()"
   ]
  },
  {
   "cell_type": "code",
   "execution_count": 9,
   "metadata": {},
   "outputs": [],
   "source": [
    "from datetime import datetime\n",
    "\n",
    "data = datetime.today().ctime()\n",
    "f = open('data.txt', 'w')\n",
    "f.write('Hour and date today!\\n')\n",
    "f.write(data)\n",
    "f.close()"
   ]
  },
  {
   "cell_type": "code",
   "execution_count": 16,
   "metadata": {},
   "outputs": [
    {
     "name": "stdout",
     "output_type": "stream",
     "text": [
      "Thu Oct 29 14:56:56 2020\n"
     ]
    }
   ],
   "source": [
    "from datetime import datetime\n",
    "\n",
    "file = open('data.txt', 'r')\n",
    "lines = file.readlines()\n",
    "print(lines[1])\n",
    "file.close()"
   ]
  },
  {
   "cell_type": "code",
   "execution_count": null,
   "metadata": {},
   "outputs": [],
   "source": []
  }
 ],
 "metadata": {
  "kernelspec": {
   "display_name": "Python 3",
   "language": "python",
   "name": "python3"
  },
  "language_info": {
   "codemirror_mode": {
    "name": "ipython",
    "version": 3
   },
   "file_extension": ".py",
   "mimetype": "text/x-python",
   "name": "python",
   "nbconvert_exporter": "python",
   "pygments_lexer": "ipython3",
   "version": "3.6.9"
  }
 },
 "nbformat": 4,
 "nbformat_minor": 4
}
