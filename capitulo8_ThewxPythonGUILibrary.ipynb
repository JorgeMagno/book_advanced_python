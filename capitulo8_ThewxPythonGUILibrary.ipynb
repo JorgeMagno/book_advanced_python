{
 "cells": [
  {
   "cell_type": "code",
   "execution_count": 2,
   "metadata": {},
   "outputs": [
    {
     "data": {
      "text/plain": [
       "0"
      ]
     },
     "execution_count": 2,
     "metadata": {},
     "output_type": "execute_result"
    }
   ],
   "source": [
    "import wx\n",
    "# Create the Application Object\n",
    "app = wx.App()\n",
    "# Now create a Frame (representing the window)\n",
    "frame = wx.Frame(parent=None, title=' Simple Hello World')\n",
    "# And add a text label to it\n",
    "text = wx.StaticText(parent=frame, label= 'Hello Python')\n",
    "# Display the window (frame)\n",
    "frame.Show()\n",
    "# Start the event loop\n",
    "app.MainLoop()"
   ]
  },
  {
   "cell_type": "code",
   "execution_count": 1,
   "metadata": {},
   "outputs": [
    {
     "data": {
      "text/plain": [
       "0"
      ]
     },
     "execution_count": 1,
     "metadata": {},
     "output_type": "execute_result"
    }
   ],
   "source": [
    "import wx\n",
    "class SampleFrame(wx.Frame):\n",
    "    def __init__(self):\n",
    "        super().__init__(parent=None, title='Sample App', size=(300, 300))\n",
    "        # Set up the first Panel to be at position 1, 1\n",
    "        # (The default) and of size 300 by 100\n",
    "        # with a blue background\n",
    "        self.panel1 = wx.Panel(self)\n",
    "        self.panel1.SetSize(300, 100)\n",
    "        self.panel1.SetBackgroundColour(wx.Colour(0, 0, 255))\n",
    "        # Set up the second Panel to be at position 1, 110\n",
    "        # and of size 300 by 100 with a red background\n",
    "        self.panel2 = wx.Panel(self)\n",
    "        self.panel2.SetSize(1, 110, 300, 100)\n",
    "        self.panel2.SetBackgroundColour(wx.Colour(255, 0, 0))\n",
    "class MainApp(wx.App):\n",
    "    def OnInit(self):\n",
    "        \"\"\" Initialise the main GUI Application\"\"\"\n",
    "        frame = SampleFrame()\n",
    "        frame.Show()\n",
    "        return True\n",
    "# Run the GUI application\n",
    "app = MainApp()\n",
    "app.MainLoop()"
   ]
  },
  {
   "cell_type": "code",
   "execution_count": null,
   "metadata": {},
   "outputs": [],
   "source": [
    "import wx\n",
    "class SampleFrame(wx.Frame):\n",
    "    def __init__(self):\n",
    "        super().__init__(parent=None, title='Sample App', size=(300, 300))\n",
    "        # Create the panel\n",
    "        self.panel = wx.Panel(self)\n",
    "        # Create the sizer to use with 4 rows and 1 column\n",
    "        # And 5 spacing around each cell\n",
    "        grid = wx.GridSizer(4, 1, 5, 5)\n",
    "        # Create the widgets\n",
    "        text = wx.TextCtrl(self.panel, size=(150, -1))\n",
    "        enter_button = wx.Button(self.panel, label='Enter')\n",
    "        label = wx.StaticText(self.panel,label='Welcome')\n",
    "        message_button = wx.Button(self.panel, label='Show Message')\n",
    "        # Add the widgets to the grid sizer\n",
    "        grid.AddMany([text, enter_button, label, message_button])\n",
    "        # Set the sizer on the panel\n",
    "        self.panel.SetSizer(grid)\n",
    "class MainApp(wx.App):\n",
    "    def OnInit(self):\n",
    "        \"\"\" Initialise the main GUI Application\"\"\"\n",
    "        frame = SampleFrame()\n",
    "        frame.Show()\n",
    "        return True\n",
    "# Run the GUI application\n",
    "app = MainApp()\n",
    "app.MainLoop()\n"
   ]
  },
  {
   "cell_type": "code",
   "execution_count": 1,
   "metadata": {},
   "outputs": [
    {
     "data": {
      "text/plain": [
       "0"
      ]
     },
     "execution_count": 1,
     "metadata": {},
     "output_type": "execute_result"
    }
   ],
   "source": [
    "import wx\n",
    "class DrawingFrame(wx.Frame):\n",
    "    def __init__(self, title):\n",
    "        super().__init__(None,\n",
    "        title=title,\n",
    "        size=(300, 200))\n",
    "        self.Bind(wx.EVT_PAINT, self.on_paint)\n",
    "    def on_paint(self, event):\n",
    "        \"\"\"set up the device context (DC) for painting\"\"\"\n",
    "        dc = wx.PaintDC(self)\n",
    "        dc.DrawLine(10, 10, 60, 20)\n",
    "        dc.DrawRectangle(20, 40, 40, 20)\n",
    "        dc.DrawText(\"Hello World\", 30, 70)\n",
    "        dc.DrawCircle(130, 40, radius=15)\n",
    "class GraphicApp(wx.App):\n",
    "    def OnInit(self):\n",
    "        \"\"\" Initialise the GUI display\"\"\"\n",
    "        frame = DrawingFrame(title='PyDraw')\n",
    "        frame.Show()\n",
    "        return True\n",
    "# Run the GUI application\n",
    "app = GraphicApp()\n",
    "app.MainLoop()"
   ]
  },
  {
   "cell_type": "code",
   "execution_count": 1,
   "metadata": {},
   "outputs": [
    {
     "data": {
      "text/plain": [
       "0"
      ]
     },
     "execution_count": 1,
     "metadata": {},
     "output_type": "execute_result"
    }
   ],
   "source": [
    "import wx\n",
    "class SampleFrame(wx.Frame):\n",
    "    def __init__(self):\n",
    "        super().__init__(parent=None, title='Feliz Aniversário App', size=(300, 300))\n",
    "        # Create the panel\n",
    "        self.panel = wx.Panel(self)\n",
    "        # Create the sizer to use with 5 rows and 1 column\n",
    "        # And 0 spacing around each cell\n",
    "        box = wx.GridBagSizer(5, 5)\n",
    "        # Create the widgets\n",
    "        textName = wx.StaticText(self.panel, label=\"Nome: \")\n",
    "        name = wx.TextCtrl(self.panel, size=(150, -1))\n",
    "        textAge = wx.StaticText(self.panel, label=\"Idade: \")\n",
    "        age = wx.TextCtrl(self.panel, size=(150, -1))\n",
    "        enter_button = wx.Button(self.panel, label='Enter')\n",
    "        label = wx.StaticText(self.panel,label='Welcome')\n",
    "        message_button = wx.Button(self.panel, label='Parabéns')\n",
    "        # Add the widgets to the grid sizer\n",
    "        box.Add(textName,(0, 0))\n",
    "        box.Add(name,(0, 1))\n",
    "        box.Add(textAge,(1, 0))\n",
    "        box.Add(age,(1, 1))\n",
    "        box.Add(enter_button,(2, 0))\n",
    "        box.Add(label,(3, 0))\n",
    "        box.Add(message_button,(4, 0))\n",
    "        # Set the sizer on the panel\n",
    "        self.panel.SetSizer(box)\n",
    "class MainApp(wx.App):\n",
    "    def OnInit(self):\n",
    "        \"\"\" Initialise the main GUI Application\"\"\"\n",
    "        frame = SampleFrame()\n",
    "        frame.Show()\n",
    "        return True\n",
    "# Run the GUI application\n",
    "app = MainApp()\n",
    "app.MainLoop()\n"
   ]
  },
  {
   "cell_type": "code",
   "execution_count": null,
   "metadata": {},
   "outputs": [],
   "source": []
  }
 ],
 "metadata": {
  "kernelspec": {
   "display_name": "Python 3",
   "language": "python",
   "name": "python3"
  },
  "language_info": {
   "codemirror_mode": {
    "name": "ipython",
    "version": 3
   },
   "file_extension": ".py",
   "mimetype": "text/x-python",
   "name": "python",
   "nbconvert_exporter": "python",
   "pygments_lexer": "ipython3",
   "version": "3.6.9"
  }
 },
 "nbformat": 4,
 "nbformat_minor": 4
}
