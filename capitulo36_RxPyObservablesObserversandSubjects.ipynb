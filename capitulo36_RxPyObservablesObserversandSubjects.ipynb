{
 "cells": [
  {
   "cell_type": "code",
   "execution_count": 4,
   "metadata": {},
   "outputs": [],
   "source": [
    "import rx\n",
    "observable = rx.from_list([2, 3, 5, 7])"
   ]
  },
  {
   "cell_type": "code",
   "execution_count": 5,
   "metadata": {},
   "outputs": [
    {
     "name": "stdout",
     "output_type": "stream",
     "text": [
      "Lambda Received 2\n",
      "Lambda Received 3\n",
      "Lambda Received 5\n",
      "Lambda Received 7\n"
     ]
    },
    {
     "data": {
      "text/plain": [
       "<rx.disposable.disposable.Disposable at 0x7f11dc4987f0>"
      ]
     },
     "execution_count": 5,
     "metadata": {},
     "output_type": "execute_result"
    }
   ],
   "source": [
    "# Subscribe a lambda function\n",
    "observable.subscribe(lambda value: print('Lambda Received', value))"
   ]
  },
  {
   "cell_type": "code",
   "execution_count": 6,
   "metadata": {},
   "outputs": [
    {
     "name": "stdout",
     "output_type": "stream",
     "text": [
      "Function Received 2\n",
      "Function Received 3\n",
      "Function Received 5\n",
      "Function Received 7\n"
     ]
    },
    {
     "data": {
      "text/plain": [
       "<rx.disposable.disposable.Disposable at 0x7f11dc498b00>"
      ]
     },
     "execution_count": 6,
     "metadata": {},
     "output_type": "execute_result"
    }
   ],
   "source": [
    "def prime_number_reporter(value):\n",
    "    print('Function Received', value)\n",
    "# Subscribe a named function\n",
    "observable.subscribe(prime_number_reporter)"
   ]
  },
  {
   "cell_type": "code",
   "execution_count": 7,
   "metadata": {},
   "outputs": [
    {
     "name": "stdout",
     "output_type": "stream",
     "text": [
      "Received on_next 2\n",
      "Received on_next 3\n",
      "Received on_next 5\n",
      "Received on_next 7\n",
      "Received completed notification\n"
     ]
    },
    {
     "data": {
      "text/plain": [
       "<rx.disposable.disposable.Disposable at 0x7f11dc444208>"
      ]
     },
     "execution_count": 7,
     "metadata": {},
     "output_type": "execute_result"
    }
   ],
   "source": [
    "# Use lambdas to set up all three functions\n",
    "observable.subscribe(on_next = lambda value: print('Received on_next', value),\n",
    "                     on_error = lambda exp: print('Error Occurred', exp), \n",
    "                     on_completed = lambda: print('Received completed notification'))"
   ]
  },
  {
   "cell_type": "code",
   "execution_count": 8,
   "metadata": {},
   "outputs": [],
   "source": [
    "class PrimeNumberObserver:\n",
    "    def on_next(self, value):\n",
    "        print('Object Received', value)\n",
    "    def on_completed(self):\n",
    "        print('Data Stream Completed')\n",
    "    def on_error(self, error):\n",
    "        print('Error Occurred', error)"
   ]
  },
  {
   "cell_type": "code",
   "execution_count": 9,
   "metadata": {},
   "outputs": [
    {
     "name": "stdout",
     "output_type": "stream",
     "text": [
      "Object Received 2\n",
      "Object Received 3\n",
      "Object Received 5\n",
      "Object Received 7\n",
      "Data Stream Completed\n"
     ]
    },
    {
     "data": {
      "text/plain": [
       "<rx.disposable.disposable.Disposable at 0x7f11dc5d7518>"
      ]
     },
     "execution_count": 9,
     "metadata": {},
     "output_type": "execute_result"
    }
   ],
   "source": [
    "# Subscribe an Observer object\n",
    "observable.subscribe(PrimeNumberObserver())"
   ]
  },
  {
   "cell_type": "code",
   "execution_count": 11,
   "metadata": {},
   "outputs": [
    {
     "name": "stdout",
     "output_type": "stream",
     "text": [
      "Set up Observers / Subscribers\n",
      "Lambda Received 2\n",
      "Lambda Received 3\n",
      "Lambda Received 5\n",
      "Lambda Received 7\n",
      "Function Received 2\n",
      "Function Received 3\n",
      "Function Received 5\n",
      "Function Received 7\n",
      "Object Received 2\n",
      "Object Received 3\n",
      "Object Received 5\n",
      "Object Received 7\n",
      "Data Stream Completed\n",
      "Received on_next 2\n",
      "Received on_next 3\n",
      "Received on_next 5\n",
      "Received on_next 7\n",
      "Received completed notification\n"
     ]
    },
    {
     "data": {
      "text/plain": [
       "<rx.disposable.disposable.Disposable at 0x7f11dc44ba90>"
      ]
     },
     "execution_count": 11,
     "metadata": {},
     "output_type": "execute_result"
    }
   ],
   "source": [
    "# Create an observable using data in a list\n",
    "observable = rx.from_list([2, 3, 5, 7])\n",
    "class PrimeNumberObserver:\n",
    "    \"\"\" An Observer class \"\"\"\n",
    "    def on_next(self, value):\n",
    "        print('Object Received', value)\n",
    "    def on_completed(self):\n",
    "        print('Data Stream Completed')\n",
    "    def on_error(self, error):\n",
    "        print('Error Occurred', error)\n",
    "def prime_number_reporter(value):\n",
    "    print('Function Received', value)\n",
    "    \n",
    "print('Set up Observers / Subscribers')\n",
    "# Subscribe a lambda function\n",
    "observable.subscribe(lambda value: print('Lambda Received', value))\n",
    "# Subscribe a named function\n",
    "observable.subscribe(prime_number_reporter)\n",
    "# Subscribe an Observer object\n",
    "observable.subscribe(PrimeNumberObserver())\n",
    "# Use lambdas to set up all three functions\n",
    "observable.subscribe(on_next=lambda value: print('Received on_next', value), \n",
    "                     on_error=lambda exp: print('Error Occurred', exp), \n",
    "                     on_completed=lambda: print('Received completed notification')\n",
    "                    )"
   ]
  },
  {
   "cell_type": "code",
   "execution_count": 2,
   "metadata": {},
   "outputs": [
    {
     "name": "stdout",
     "output_type": "stream",
     "text": [
      "Set up\n",
      "Subject Received 2\n",
      "Function Received (2, datetime.datetime(2021, 5, 10, 14, 48, 43, 169750))\n",
      "Lambda Received (2, datetime.datetime(2021, 5, 10, 14, 48, 43, 169750))\n",
      "Received on_next (2, datetime.datetime(2021, 5, 10, 14, 48, 43, 169750))\n",
      "Subject Received 3\n",
      "Function Received (3, datetime.datetime(2021, 5, 10, 14, 48, 43, 170397))\n",
      "Lambda Received (3, datetime.datetime(2021, 5, 10, 14, 48, 43, 170397))\n",
      "Received on_next (3, datetime.datetime(2021, 5, 10, 14, 48, 43, 170397))\n",
      "Subject Received 5\n",
      "Function Received (5, datetime.datetime(2021, 5, 10, 14, 48, 43, 170548))\n",
      "Lambda Received (5, datetime.datetime(2021, 5, 10, 14, 48, 43, 170548))\n",
      "Received on_next (5, datetime.datetime(2021, 5, 10, 14, 48, 43, 170548))\n",
      "Subject Received 7\n",
      "Function Received (7, datetime.datetime(2021, 5, 10, 14, 48, 43, 171889))\n",
      "Lambda Received (7, datetime.datetime(2021, 5, 10, 14, 48, 43, 171889))\n",
      "Received on_next (7, datetime.datetime(2021, 5, 10, 14, 48, 43, 171889))\n",
      "Data Stream Completed\n",
      "Received completed notification\n",
      "Done\n"
     ]
    }
   ],
   "source": [
    "import rx\n",
    "from rx.subject import Subject\n",
    "from datetime import datetime\n",
    "\n",
    "source = rx.from_list([2, 3, 5, 7])\n",
    "\n",
    "class TimeStampSubject(Subject):\n",
    "    def on_next(self, value):\n",
    "        print('Subject Received', value)\n",
    "        super().on_next((value, datetime.now()))\n",
    "    def on_completed(self):\n",
    "        print('Data Stream Completed')\n",
    "        super().on_completed()\n",
    "    def on_error(self, error):\n",
    "        print('In Subject - Error Occurred', error)\n",
    "        super().on_error(error)\n",
    "        \n",
    "def prime_number_reporter(value):\n",
    "    print('Function Received', value)\n",
    "    \n",
    "print('Set up')\n",
    "\n",
    "#Create the Subject\n",
    "subject = TimeStampSubject()\n",
    "# Set up multiple subscribers for the subject\n",
    "subject.subscribe(prime_number_reporter)\n",
    "subject.subscribe(lambda value: print('Lambda Received', value))\n",
    "subject.subscribe( on_next = lambda value: print('Received on_next', value), \n",
    "                  on_error = lambda exp: print('Error Occurred', exp), \n",
    "                  on_completed = lambda: print('Received completed notification') \n",
    "                 )\n",
    "# Subscribe the Subject to the Observable source\n",
    "source.subscribe(subject)\n",
    "print('Done')"
   ]
  },
  {
   "cell_type": "code",
   "execution_count": 4,
   "metadata": {},
   "outputs": [
    {
     "name": "stdout",
     "output_type": "stream",
     "text": [
      "Lambda1 Received 2\n",
      "Lambda1 Received 3\n",
      "Lambda1 Received 5\n",
      "Lambda2 Received 2\n",
      "Lambda2 Received 3\n",
      "Lambda2 Received 5\n",
      "Lambda3 Received 2\n",
      "Lambda3 Received 3\n",
      "Lambda3 Received 5\n"
     ]
    },
    {
     "data": {
      "text/plain": [
       "<rx.disposable.disposable.Disposable at 0x7f0397aa0c18>"
      ]
     },
     "execution_count": 4,
     "metadata": {},
     "output_type": "execute_result"
    }
   ],
   "source": [
    "import rx\n",
    "observable = rx.from_list([2, 3, 5])\n",
    "observable.subscribe(lambda v: print('Lambda1 Received', v))\n",
    "observable.subscribe(lambda v: print('Lambda2 Received', v))\n",
    "observable.subscribe(lambda v: print('Lambda3 Received', v))"
   ]
  },
  {
   "cell_type": "code",
   "execution_count": 7,
   "metadata": {},
   "outputs": [
    {
     "name": "stdout",
     "output_type": "stream",
     "text": [
      "Lambda2 ReceivedLambda1 Received  2\n",
      "Lambda1 Received 3\n",
      "Lambda1 Received 5\n",
      "2\n",
      "Lambda2 Received 3\n",
      "Lambda2 Received 5\n",
      "Lambda3 Received 2\n",
      "Lambda3 Received 3\n",
      "Lambda3 Received 5\n",
      "Press enter to finish\n"
     ]
    },
    {
     "data": {
      "text/plain": [
       "''"
      ]
     },
     "execution_count": 7,
     "metadata": {},
     "output_type": "execute_result"
    }
   ],
   "source": [
    "import rx\n",
    "from rx.scheduler import NewThreadScheduler, ThreadPoolScheduler, ImmediateScheduler\n",
    "observable = rx.from_list([2, 3, 5])\n",
    "observable.subscribe(lambda v: print('Lambda1 Received', v), scheduler=ThreadPoolScheduler(2))\n",
    "observable.subscribe(lambda v: print('Lambda2 Received', v), scheduler=ImmediateScheduler())\n",
    "observable.subscribe(lambda v: print('Lambda3 Received', v), scheduler=NewThreadScheduler())\n",
    "# As the Observable runs in a separate thread need\n",
    "# ensure that the main thread does not terminate\n",
    "input('Press enter to finish')"
   ]
  },
  {
   "cell_type": "code",
   "execution_count": 1,
   "metadata": {},
   "outputs": [],
   "source": [
    "stocks = (('APPL', 12.45), ('IBM', 15.55), ('MSFT', 5.66), ('APPL', 13.33))"
   ]
  },
  {
   "cell_type": "code",
   "execution_count": 5,
   "metadata": {},
   "outputs": [
    {
     "name": "stdout",
     "output_type": "stream",
     "text": [
      "Price: 12.45\n",
      "Price: 15.55\n",
      "Price: 5.66\n",
      "Price: 13.33\n",
      "Name: APPL\n",
      "Name: IBM\n",
      "Name: MSFT\n",
      "Name: APPL\n",
      "Tuple: ('APPL', 12.45)\n",
      "Tuple: ('IBM', 15.55)\n",
      "Tuple: ('MSFT', 5.66)\n",
      "Tuple: ('APPL', 13.33)\n"
     ]
    },
    {
     "data": {
      "text/plain": [
       "<rx.disposable.disposable.Disposable at 0x7f5a402d4a58>"
      ]
     },
     "execution_count": 5,
     "metadata": {},
     "output_type": "execute_result"
    }
   ],
   "source": [
    "import rx\n",
    "observable = rx.from_list(stocks)\n",
    "observable.subscribe(lambda v: print('Price:', v[1]))\n",
    "observable.subscribe(lambda v: print('Name:', v[0]))\n",
    "observable.subscribe(lambda v: print('Tuple:', v))\n"
   ]
  },
  {
   "cell_type": "code",
   "execution_count": null,
   "metadata": {},
   "outputs": [],
   "source": []
  }
 ],
 "metadata": {
  "kernelspec": {
   "display_name": "Python 3",
   "language": "python",
   "name": "python3"
  },
  "language_info": {
   "codemirror_mode": {
    "name": "ipython",
    "version": 3
   },
   "file_extension": ".py",
   "mimetype": "text/x-python",
   "name": "python",
   "nbconvert_exporter": "python",
   "pygments_lexer": "ipython3",
   "version": "3.6.9"
  }
 },
 "nbformat": 4,
 "nbformat_minor": 4
}
